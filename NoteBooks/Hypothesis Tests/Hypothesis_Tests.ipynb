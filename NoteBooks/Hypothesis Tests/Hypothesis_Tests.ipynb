{
 "cells": [
  {
   "cell_type": "code",
   "execution_count": 1,
   "id": "bf170dbd4c036f7d",
   "metadata": {},
   "outputs": [],
   "source": [
    "import pandas as pd \n",
    "import numpy as np\n",
    "import matplotlib.pyplot as plt\n",
    "import seaborn as sns\n",
    "from scipy import stats\n",
    "from scipy.stats import mannwhitneyu \n",
    "from scipy.stats import shapiro\n",
    "from scipy.stats import ttest_ind\n"
   ]
  },
  {
   "cell_type": "markdown",
   "id": "40c5bd8cdea752de",
   "metadata": {},
   "source": [
    "## <div dir=\"rtl\" style=\"font-family: 'Segoe UI', Tahoma, sans-serif; font-size: 24px; color: #ffffff; font-weight: bold; padding: 12px; border-radius: 8px; background: linear-gradient(#2EA149, #1e3a8a, #4f46e5); text-align: right;\"> تست فرض اول </div>\n"
   ]
  },
  {
   "cell_type": "markdown",
   "id": "5b92ea9847e8a14d",
   "metadata": {},
   "source": [
    "### <div dir=\"rtl\" style=\"font-family: 'Segoe UI', Tahoma, sans-serif; font-size: 20px; color: #ffffff; font-weight: bold; padding: 10px; border-radius: 8px; background: linear-gradient(135deg, #2EA149, #60a5fa); text-align: right;\"> خواندن دیتا </div>\n"
   ]
  },
  {
   "cell_type": "code",
   "execution_count": 2,
   "id": "b4f3bcf9be4ad29",
   "metadata": {},
   "outputs": [
    {
     "data": {
      "text/html": [
       "<div>\n",
       "<style scoped>\n",
       "    .dataframe tbody tr th:only-of-type {\n",
       "        vertical-align: middle;\n",
       "    }\n",
       "\n",
       "    .dataframe tbody tr th {\n",
       "        vertical-align: top;\n",
       "    }\n",
       "\n",
       "    .dataframe thead th {\n",
       "        text-align: right;\n",
       "    }\n",
       "</style>\n",
       "<table border=\"1\" class=\"dataframe\">\n",
       "  <thead>\n",
       "    <tr style=\"text-align: right;\">\n",
       "      <th></th>\n",
       "      <th>Address</th>\n",
       "      <th>province</th>\n",
       "      <th>ur</th>\n",
       "      <th>income</th>\n",
       "    </tr>\n",
       "  </thead>\n",
       "  <tbody>\n",
       "    <tr>\n",
       "      <th>0</th>\n",
       "      <td>21401545208</td>\n",
       "      <td>CharmahalBakhtiari</td>\n",
       "      <td>R</td>\n",
       "      <td>146040000.0</td>\n",
       "    </tr>\n",
       "    <tr>\n",
       "      <th>1</th>\n",
       "      <td>21401545211</td>\n",
       "      <td>CharmahalBakhtiari</td>\n",
       "      <td>R</td>\n",
       "      <td>428060000.0</td>\n",
       "    </tr>\n",
       "    <tr>\n",
       "      <th>2</th>\n",
       "      <td>21401545214</td>\n",
       "      <td>CharmahalBakhtiari</td>\n",
       "      <td>R</td>\n",
       "      <td>170000000.0</td>\n",
       "    </tr>\n",
       "    <tr>\n",
       "      <th>3</th>\n",
       "      <td>21401545217</td>\n",
       "      <td>CharmahalBakhtiari</td>\n",
       "      <td>R</td>\n",
       "      <td>53660000.0</td>\n",
       "    </tr>\n",
       "    <tr>\n",
       "      <th>4</th>\n",
       "      <td>21401545217</td>\n",
       "      <td>CharmahalBakhtiari</td>\n",
       "      <td>R</td>\n",
       "      <td>53660000.0</td>\n",
       "    </tr>\n",
       "  </tbody>\n",
       "</table>\n",
       "</div>"
      ],
      "text/plain": [
       "       Address            province ur       income\n",
       "0  21401545208  CharmahalBakhtiari  R  146040000.0\n",
       "1  21401545211  CharmahalBakhtiari  R  428060000.0\n",
       "2  21401545214  CharmahalBakhtiari  R  170000000.0\n",
       "3  21401545217  CharmahalBakhtiari  R   53660000.0\n",
       "4  21401545217  CharmahalBakhtiari  R   53660000.0"
      ]
     },
     "execution_count": 2,
     "metadata": {},
     "output_type": "execute_result"
    }
   ],
   "source": [
    "df = pd.read_csv('df_test1.csv')\n",
    "df.head()\n"
   ]
  },
  {
   "cell_type": "markdown",
   "id": "b89c4f30924002ac",
   "metadata": {},
   "source": [
    "### <div dir=\"rtl\" style=\"font-family: 'Segoe UI', Tahoma, sans-serif; font-size: 20px; color: #ffffff; font-weight: bold; padding: 10px; border-radius: 8px; background: linear-gradient(135deg, #2EA149, #60a5fa); text-align: right;\"> بررسی دیتا </div>\n"
   ]
  },
  {
   "cell_type": "code",
   "execution_count": 3,
   "id": "e56cc0996d2b4481",
   "metadata": {},
   "outputs": [
    {
     "data": {
      "text/html": [
       "<div>\n",
       "<style scoped>\n",
       "    .dataframe tbody tr th:only-of-type {\n",
       "        vertical-align: middle;\n",
       "    }\n",
       "\n",
       "    .dataframe tbody tr th {\n",
       "        vertical-align: top;\n",
       "    }\n",
       "\n",
       "    .dataframe thead th {\n",
       "        text-align: right;\n",
       "    }\n",
       "</style>\n",
       "<table border=\"1\" class=\"dataframe\">\n",
       "  <thead>\n",
       "    <tr style=\"text-align: right;\">\n",
       "      <th></th>\n",
       "      <th>Address</th>\n",
       "      <th>income</th>\n",
       "    </tr>\n",
       "  </thead>\n",
       "  <tbody>\n",
       "    <tr>\n",
       "      <th>count</th>\n",
       "      <td>4.491000e+03</td>\n",
       "      <td>4.491000e+03</td>\n",
       "    </tr>\n",
       "    <tr>\n",
       "      <th>mean</th>\n",
       "      <td>1.571316e+10</td>\n",
       "      <td>2.793771e+09</td>\n",
       "    </tr>\n",
       "    <tr>\n",
       "      <th>std</th>\n",
       "      <td>4.953224e+09</td>\n",
       "      <td>7.240888e+09</td>\n",
       "    </tr>\n",
       "    <tr>\n",
       "      <th>min</th>\n",
       "      <td>1.140117e+10</td>\n",
       "      <td>1.446000e+07</td>\n",
       "    </tr>\n",
       "    <tr>\n",
       "      <th>25%</th>\n",
       "      <td>1.140218e+10</td>\n",
       "      <td>5.725250e+08</td>\n",
       "    </tr>\n",
       "    <tr>\n",
       "      <th>50%</th>\n",
       "      <td>1.140818e+10</td>\n",
       "      <td>1.294710e+09</td>\n",
       "    </tr>\n",
       "    <tr>\n",
       "      <th>75%</th>\n",
       "      <td>2.140455e+10</td>\n",
       "      <td>2.564405e+09</td>\n",
       "    </tr>\n",
       "    <tr>\n",
       "      <th>max</th>\n",
       "      <td>2.140955e+10</td>\n",
       "      <td>1.672000e+11</td>\n",
       "    </tr>\n",
       "  </tbody>\n",
       "</table>\n",
       "</div>"
      ],
      "text/plain": [
       "            Address        income\n",
       "count  4.491000e+03  4.491000e+03\n",
       "mean   1.571316e+10  2.793771e+09\n",
       "std    4.953224e+09  7.240888e+09\n",
       "min    1.140117e+10  1.446000e+07\n",
       "25%    1.140218e+10  5.725250e+08\n",
       "50%    1.140818e+10  1.294710e+09\n",
       "75%    2.140455e+10  2.564405e+09\n",
       "max    2.140955e+10  1.672000e+11"
      ]
     },
     "execution_count": 3,
     "metadata": {},
     "output_type": "execute_result"
    }
   ],
   "source": [
    "df.describe()\n"
   ]
  },
  {
   "cell_type": "code",
   "execution_count": 4,
   "id": "32f03dd617344ce0",
   "metadata": {},
   "outputs": [
    {
     "name": "stdout",
     "output_type": "stream",
     "text": [
      "<class 'pandas.core.frame.DataFrame'>\n",
      "RangeIndex: 4491 entries, 0 to 4490\n",
      "Data columns (total 4 columns):\n",
      " #   Column    Non-Null Count  Dtype  \n",
      "---  ------    --------------  -----  \n",
      " 0   Address   4491 non-null   int64  \n",
      " 1   province  4491 non-null   object \n",
      " 2   ur        4491 non-null   object \n",
      " 3   income    4491 non-null   float64\n",
      "dtypes: float64(1), int64(1), object(2)\n",
      "memory usage: 140.5+ KB\n"
     ]
    }
   ],
   "source": [
    "df.info()\n"
   ]
  },
  {
   "cell_type": "code",
   "execution_count": 5,
   "id": "4730081c9b2644a",
   "metadata": {},
   "outputs": [
    {
     "data": {
      "text/plain": [
       "array(['R', 'U'], dtype=object)"
      ]
     },
     "execution_count": 5,
     "metadata": {},
     "output_type": "execute_result"
    }
   ],
   "source": [
    "df['ur'].unique()\n"
   ]
  },
  {
   "cell_type": "markdown",
   "id": "fae20428eb8c0ac",
   "metadata": {},
   "source": [
    "### <div dir=\"rtl\" style=\"font-family: 'Segoe UI', Tahoma, sans-serif; font-size: 20px; color: #ffffff; font-weight: bold; padding: 10px; border-radius: 8px; background: linear-gradient(135deg, #2EA149, #60a5fa); text-align: right;\"> جدا سازی افراد شهری و روستایی</div>\n"
   ]
  },
  {
   "cell_type": "code",
   "execution_count": 6,
   "id": "9feb3484e2283c43",
   "metadata": {},
   "outputs": [],
   "source": [
    "province_filter = df['province'] == 'CharmahalBakhtiari'\n",
    "urban_data = df[(province_filter) & (df['ur'] == 'U')]\n",
    "rural_data = df[(province_filter) & (df['ur'] == 'R')]\n"
   ]
  },
  {
   "cell_type": "code",
   "execution_count": 7,
   "id": "87e78ad7ace2b5b5",
   "metadata": {},
   "outputs": [
    {
     "data": {
      "text/plain": [
       "count    2.556000e+03\n",
       "mean     3.487725e+09\n",
       "std      9.111320e+09\n",
       "min      2.100000e+07\n",
       "25%      5.995400e+08\n",
       "50%      1.500130e+09\n",
       "75%      3.113710e+09\n",
       "max      1.672000e+11\n",
       "Name: income, dtype: float64"
      ]
     },
     "execution_count": 7,
     "metadata": {},
     "output_type": "execute_result"
    }
   ],
   "source": [
    "urban_data['income'].describe()\n"
   ]
  },
  {
   "cell_type": "code",
   "execution_count": 8,
   "id": "f07d3390ac87d072",
   "metadata": {},
   "outputs": [
    {
     "data": {
      "text/plain": [
       "count    1.935000e+03\n",
       "mean     1.877106e+09\n",
       "std      3.251737e+09\n",
       "min      1.446000e+07\n",
       "25%      5.373350e+08\n",
       "50%      1.146230e+09\n",
       "75%      1.974250e+09\n",
       "max      3.728418e+10\n",
       "Name: income, dtype: float64"
      ]
     },
     "execution_count": 8,
     "metadata": {},
     "output_type": "execute_result"
    }
   ],
   "source": [
    "rural_data['income'].describe()\n"
   ]
  },
  {
   "cell_type": "markdown",
   "id": "deb4da425774d029",
   "metadata": {},
   "source": [
    "### <div dir=\"rtl\" style=\"font-family: 'Segoe UI', Tahoma, sans-serif; font-size: 20px; color: #ffffff; font-weight: bold; padding: 10px; border-radius: 8px; background: linear-gradient(135deg, #2EA149, #60a5fa); text-align: right;\"> رسم نمودار مقایسه توزیع درآمد بین افراد شهری و روستایی</div>\n"
   ]
  },
  {
   "cell_type": "code",
   "execution_count": 9,
   "id": "eb48c7d39bdab54f",
   "metadata": {},
   "outputs": [
    {
     "data": {
      "image/png": "[encoded data removed]",
      "text/plain": [
       "<Figure size 1000x600 with 1 Axes>"
      ]
     },
     "metadata": {},
     "output_type": "display_data"
    }
   ],
   "source": [
    "plt.figure(figsize=(10,6))\n",
    "urban_income_log = np.log1p(urban_data['income'])\n",
    "rural_income_log = np.log1p(rural_data['income'])\n",
    "sns.histplot(urban_income_log, color='blue', kde=True, label='Urban', stat='density', bins=30, alpha=0.6)\n",
    "sns.histplot(rural_income_log, color='green', kde=True, label='Rural', stat='density', bins=30, alpha=0.6)\n",
    "plt.title('Comparison of Income Distribution: Urban vs Rural (Logarithmic Scale)', fontsize=16)\n",
    "plt.xlabel('Log(Income)', fontsize=12)\n",
    "plt.ylabel('Density', fontsize=12)\n",
    "plt.legend(title=\"Household Type\")\n",
    "plt.grid(True)\n",
    "plt.show()\n"
   ]
  },
  {
   "cell_type": "markdown",
   "id": "e825eda89fecd7e5",
   "metadata": {},
   "source": [
    "- <div dir=\"rtl\" style=\"font-family: 'Segoe UI', Tahoma, sans-serif; font-size: 20px; color: #ffffff; font-weight: bold; padding: 10px; border-radius: 8px; background: linear-gradient(135deg, #2EA149, #60a5fa); text-align: right;\">  برای اینکه داده های پرت تاثیر چندانی روی نمایش نمودار توزیع نداشته باشند از مقیاس لاگ استفاده شده</div>\n"
   ]
  },
  {
   "cell_type": "code",
   "execution_count": 10,
   "id": "6b730e33ceacd549",
   "metadata": {},
   "outputs": [
    {
     "data": {
      "image/png": "[encoded data removed]",
      "text/plain": [
       "<Figure size 800x600 with 1 Axes>"
      ]
     },
     "metadata": {},
     "output_type": "display_data"
    }
   ],
   "source": [
    "plt.figure(figsize=(8,6))\n",
    "sns.boxplot(x='ur', y='income', data=df[df['province'] == 'CharmahalBakhtiari'], palette='Set3')\n",
    "plt.title('Income Comparison between Urban and Rural Households')\n",
    "plt.xlabel('Urban (U) vs Rural (R)')\n",
    "plt.ylabel('Income')\n",
    "plt.show()\n"
   ]
  },
  {
   "cell_type": "code",
   "execution_count": 11,
   "id": "22f52d817b8c0e9b",
   "metadata": {},
   "outputs": [
    {
     "name": "stdout",
     "output_type": "stream",
     "text": [
      "T-statistic: 8.26845642820047\n",
      "P-value: 1.9315084811718738e-16\n"
     ]
    }
   ],
   "source": [
    "t_stat, p_value = stats.ttest_ind(urban_data['income'], rural_data['income'], equal_var=False)\n",
    "\n",
    "print(f\"T-statistic: {t_stat}\") \n",
    "print(f\"P-value: {p_value}\")\n"
   ]
  },
  {
   "cell_type": "markdown",
   "id": "dbfb9f6216b73fcf",
   "metadata": {},
   "source": [
    "### <div dir=\"rtl\" style=\"font-family: 'Segoe UI', Tahoma, sans-serif; font-size: 20px; color: #ffffff; font-weight: bold; padding: 10px; border-radius: 8px; background: linear-gradient(135deg, #2EA149, #60a5fa); text-align: right;\"> گزارش آزمون فرض</div>\n"
   ]
  },
  {
   "cell_type": "markdown",
   "id": "f2df5ae5b9215a0f",
   "metadata": {},
   "source": [
    "<div style=\"direction: rtl; text-align: right; font-family: 'Vazir', sans-serif; background-color: #2c3e50; padding: 20px; border-radius: 8px; box-shadow: 0px 0px 10px rgba(0,0,0,0.3); color: #ecf0f1;\">\n",
    "  <h2 style=\"color: #f1c40f; text-align: center;\">گزارش آزمون فرض</h2>\n",
    "  \n",
    "  <p style=\"font-size: 16px; line-height: 1.6;\">\n",
    "    آزمون فرض برای بررسی این سوال انجام شد که آیا درآمد خانوارهای شهری و روستایی در استان چهارمحال و بختیاری برابر است یا خیر. برای این منظور، از آزمون t دو نمونه‌ای مستقل استفاده کردیم. نتایج این آزمون به شرح زیر است:\n",
    "  </p>\n",
    "  \n",
    "  <ul style=\"font-size: 16px; line-height: 1.8;\">\n",
    "    <li><strong>آمار آزمون (T-statistic):</strong> <span style=\"color: #e74c3c;\">8.27</span></li>\n",
    "    <li><strong>p-value مقدار :</strong> <span style=\"color: #e74c3c;\">1.93e-16</span></li>\n",
    "  </ul>\n",
    "\n",
    "  <h3 style=\"color: #2ecc71;\">تحلیل:</h3>\n",
    "  \n",
    "  <p style=\"font-size: 16px; line-height: 1.6;\">\n",
    "    با توجه به مقدار بسیار کم p-value (که بسیار کمتر از سطح معنی‌داری معمول 0.05 است)، می‌توان نتیجه گرفت که فرض بیان شده رد می‌شود. به عبارت دیگر، اختلاف معنی‌داری بین میانگین درآمد خانوارهای شهری و روستایی در استان چهارمحال و بختیاری وجود دارد.\n",
    "  </p>\n",
    "\n",
    "  <p style=\"font-size: 16px; line-height: 1.6;\">\n",
    "    آمار آزمون (T-statistic) نیز نشان می‌دهد که اختلاف میانگین درآمد خانوارهای شهری و روستایی بسیار بزرگ است. بنابراین می‌توانیم با اطمینان بالایی نتیجه‌گیری کنیم که درآمد خانوارهای شهری به طور قابل توجهی بیشتر از درآمد خانوارهای روستایی است.\n",
    "  </p>\n",
    "\n",
    "  <p style=\"font-size: 16px; line-height: 1.6; color: #27ae60;\">\n",
    "    در نهایت، نتیجه آزمون نشان‌دهنده این است که درآمد خانوارهای شهری و روستایی در استان چهارمحال و بختیاری برابر نیستند و تفاوت معناداری بین این دو گروه وجود دارد.\n",
    "  </p>\n",
    "</div>\n"
   ]
  },
  {
   "cell_type": "markdown",
   "id": "590726abdfeac419",
   "metadata": {},
   "source": [
    "## <div dir=\"rtl\" style=\"font-family: 'Segoe UI', Tahoma, sans-serif; font-size: 24px; color: #ffffff; font-weight: bold; padding: 12px; border-radius: 8px; background: linear-gradient(#2EA149, #1e3a8a, #4f46e5); text-align: right;\"> تست فرض دوم </div>\n"
   ]
  },
  {
   "cell_type": "markdown",
   "id": "73de580b78f9d315",
   "metadata": {},
   "source": [
    "### <div dir=\"rtl\" style=\"font-family: 'Segoe UI', Tahoma, sans-serif; font-size: 20px; color: #ffffff; font-weight: bold; padding: 10px; border-radius: 8px; background: linear-gradient(135deg, #2EA149, #60a5fa); text-align: right;\"> خواندن دیتا </div>\n"
   ]
  },
  {
   "cell_type": "code",
   "execution_count": 12,
   "id": "d9367c2d5de284b7",
   "metadata": {},
   "outputs": [
    {
     "data": {
      "text/html": [
       "<div>\n",
       "<style scoped>\n",
       "    .dataframe tbody tr th:only-of-type {\n",
       "        vertical-align: middle;\n",
       "    }\n",
       "\n",
       "    .dataframe tbody tr th {\n",
       "        vertical-align: top;\n",
       "    }\n",
       "\n",
       "    .dataframe thead th {\n",
       "        text-align: right;\n",
       "    }\n",
       "</style>\n",
       "<table border=\"1\" class=\"dataframe\">\n",
       "  <thead>\n",
       "    <tr style=\"text-align: right;\">\n",
       "      <th></th>\n",
       "      <th>Address</th>\n",
       "      <th>value</th>\n",
       "      <th>ur</th>\n",
       "    </tr>\n",
       "  </thead>\n",
       "  <tbody>\n",
       "    <tr>\n",
       "      <th>0</th>\n",
       "      <td>20011395420</td>\n",
       "      <td>1000000</td>\n",
       "      <td>R</td>\n",
       "    </tr>\n",
       "    <tr>\n",
       "      <th>1</th>\n",
       "      <td>20011395420</td>\n",
       "      <td>20000</td>\n",
       "      <td>R</td>\n",
       "    </tr>\n",
       "    <tr>\n",
       "      <th>2</th>\n",
       "      <td>20011395420</td>\n",
       "      <td>350000</td>\n",
       "      <td>R</td>\n",
       "    </tr>\n",
       "    <tr>\n",
       "      <th>3</th>\n",
       "      <td>20011395420</td>\n",
       "      <td>200000</td>\n",
       "      <td>R</td>\n",
       "    </tr>\n",
       "    <tr>\n",
       "      <th>4</th>\n",
       "      <td>20001385412</td>\n",
       "      <td>1500000</td>\n",
       "      <td>R</td>\n",
       "    </tr>\n",
       "  </tbody>\n",
       "</table>\n",
       "</div>"
      ],
      "text/plain": [
       "       Address    value ur\n",
       "0  20011395420  1000000  R\n",
       "1  20011395420    20000  R\n",
       "2  20011395420   350000  R\n",
       "3  20011395420   200000  R\n",
       "4  20001385412  1500000  R"
      ]
     },
     "execution_count": 12,
     "metadata": {},
     "output_type": "execute_result"
    }
   ],
   "source": [
    "df_test2 = pd.read_csv('df_test2.csv')\n",
    "df_test2.head()\n"
   ]
  },
  {
   "cell_type": "markdown",
   "id": "56c25c556430f23a",
   "metadata": {},
   "source": [
    "### <div dir=\"rtl\" style=\"font-family: 'Segoe UI', Tahoma, sans-serif; font-size: 20px; color: #ffffff; font-weight: bold; padding: 10px; border-radius: 8px; background: linear-gradient(135deg, #2EA149, #60a5fa); text-align: right;\"> بررسی دیتا</div>\n"
   ]
  },
  {
   "cell_type": "code",
   "execution_count": 13,
   "id": "fe16d517ea23fc5f",
   "metadata": {},
   "outputs": [
    {
     "data": {
      "text/html": [
       "<div>\n",
       "<style scoped>\n",
       "    .dataframe tbody tr th:only-of-type {\n",
       "        vertical-align: middle;\n",
       "    }\n",
       "\n",
       "    .dataframe tbody tr th {\n",
       "        vertical-align: top;\n",
       "    }\n",
       "\n",
       "    .dataframe thead th {\n",
       "        text-align: right;\n",
       "    }\n",
       "</style>\n",
       "<table border=\"1\" class=\"dataframe\">\n",
       "  <thead>\n",
       "    <tr style=\"text-align: right;\">\n",
       "      <th></th>\n",
       "      <th>Address</th>\n",
       "      <th>value</th>\n",
       "    </tr>\n",
       "  </thead>\n",
       "  <tbody>\n",
       "    <tr>\n",
       "      <th>count</th>\n",
       "      <td>6.189580e+05</td>\n",
       "      <td>6.189580e+05</td>\n",
       "    </tr>\n",
       "    <tr>\n",
       "      <th>mean</th>\n",
       "      <td>1.596606e+10</td>\n",
       "      <td>3.013850e+06</td>\n",
       "    </tr>\n",
       "    <tr>\n",
       "      <th>std</th>\n",
       "      <td>5.010112e+09</td>\n",
       "      <td>8.609204e+06</td>\n",
       "    </tr>\n",
       "    <tr>\n",
       "      <th>min</th>\n",
       "      <td>1.000100e+10</td>\n",
       "      <td>2.000000e+03</td>\n",
       "    </tr>\n",
       "    <tr>\n",
       "      <th>25%</th>\n",
       "      <td>1.140217e+10</td>\n",
       "      <td>2.100000e+05</td>\n",
       "    </tr>\n",
       "    <tr>\n",
       "      <th>50%</th>\n",
       "      <td>1.271134e+10</td>\n",
       "      <td>4.000000e+05</td>\n",
       "    </tr>\n",
       "    <tr>\n",
       "      <th>75%</th>\n",
       "      <td>2.111553e+10</td>\n",
       "      <td>1.800000e+06</td>\n",
       "    </tr>\n",
       "    <tr>\n",
       "      <th>max</th>\n",
       "      <td>2.300671e+10</td>\n",
       "      <td>8.000000e+08</td>\n",
       "    </tr>\n",
       "  </tbody>\n",
       "</table>\n",
       "</div>"
      ],
      "text/plain": [
       "            Address         value\n",
       "count  6.189580e+05  6.189580e+05\n",
       "mean   1.596606e+10  3.013850e+06\n",
       "std    5.010112e+09  8.609204e+06\n",
       "min    1.000100e+10  2.000000e+03\n",
       "25%    1.140217e+10  2.100000e+05\n",
       "50%    1.271134e+10  4.000000e+05\n",
       "75%    2.111553e+10  1.800000e+06\n",
       "max    2.300671e+10  8.000000e+08"
      ]
     },
     "execution_count": 13,
     "metadata": {},
     "output_type": "execute_result"
    }
   ],
   "source": [
    "df_test2.describe()\n"
   ]
  },
  {
   "cell_type": "code",
   "execution_count": 14,
   "id": "3d5c23db04c03793",
   "metadata": {},
   "outputs": [
    {
     "name": "stdout",
     "output_type": "stream",
     "text": [
      "<class 'pandas.core.frame.DataFrame'>\n",
      "RangeIndex: 618958 entries, 0 to 618957\n",
      "Data columns (total 3 columns):\n",
      " #   Column   Non-Null Count   Dtype \n",
      "---  ------   --------------   ----- \n",
      " 0   Address  618958 non-null  int64 \n",
      " 1   value    618958 non-null  int64 \n",
      " 2   ur       618958 non-null  object\n",
      "dtypes: int64(2), object(1)\n",
      "memory usage: 14.2+ MB\n"
     ]
    }
   ],
   "source": [
    "df_test2.info()\n"
   ]
  },
  {
   "cell_type": "markdown",
   "id": "bd0b1a2230527b3",
   "metadata": {},
   "source": [
    "### <div dir=\"rtl\" style=\"font-family: 'Segoe UI', Tahoma, sans-serif; font-size: 20px; color: #ffffff; font-weight: bold; padding: 10px; border-radius: 8px; background: linear-gradient(135deg, #2EA149, #60a5fa); text-align: right;\"> جدا سازی افراد شهری و روستایی</div>\n"
   ]
  },
  {
   "cell_type": "code",
   "execution_count": 15,
   "id": "64d1f3d1e993264b",
   "metadata": {},
   "outputs": [],
   "source": [
    "house_R = df_test2[df_test2['ur'] == 'R']\n",
    "house_U = df_test2[df_test2['ur'] == 'U']\n"
   ]
  },
  {
   "cell_type": "code",
   "execution_count": 16,
   "id": "ca2b0a0767e07f1d",
   "metadata": {},
   "outputs": [
    {
     "data": {
      "text/html": [
       "<div>\n",
       "<style scoped>\n",
       "    .dataframe tbody tr th:only-of-type {\n",
       "        vertical-align: middle;\n",
       "    }\n",
       "\n",
       "    .dataframe tbody tr th {\n",
       "        vertical-align: top;\n",
       "    }\n",
       "\n",
       "    .dataframe thead th {\n",
       "        text-align: right;\n",
       "    }\n",
       "</style>\n",
       "<table border=\"1\" class=\"dataframe\">\n",
       "  <thead>\n",
       "    <tr style=\"text-align: right;\">\n",
       "      <th></th>\n",
       "      <th>Address</th>\n",
       "      <th>value</th>\n",
       "      <th>ur</th>\n",
       "    </tr>\n",
       "  </thead>\n",
       "  <tbody>\n",
       "    <tr>\n",
       "      <th>0</th>\n",
       "      <td>20011395420</td>\n",
       "      <td>1000000</td>\n",
       "      <td>R</td>\n",
       "    </tr>\n",
       "    <tr>\n",
       "      <th>1</th>\n",
       "      <td>20011395420</td>\n",
       "      <td>20000</td>\n",
       "      <td>R</td>\n",
       "    </tr>\n",
       "    <tr>\n",
       "      <th>2</th>\n",
       "      <td>20011395420</td>\n",
       "      <td>350000</td>\n",
       "      <td>R</td>\n",
       "    </tr>\n",
       "    <tr>\n",
       "      <th>3</th>\n",
       "      <td>20011395420</td>\n",
       "      <td>200000</td>\n",
       "      <td>R</td>\n",
       "    </tr>\n",
       "    <tr>\n",
       "      <th>4</th>\n",
       "      <td>20001385412</td>\n",
       "      <td>1500000</td>\n",
       "      <td>R</td>\n",
       "    </tr>\n",
       "  </tbody>\n",
       "</table>\n",
       "</div>"
      ],
      "text/plain": [
       "       Address    value ur\n",
       "0  20011395420  1000000  R\n",
       "1  20011395420    20000  R\n",
       "2  20011395420   350000  R\n",
       "3  20011395420   200000  R\n",
       "4  20001385412  1500000  R"
      ]
     },
     "execution_count": 16,
     "metadata": {},
     "output_type": "execute_result"
    }
   ],
   "source": [
    "house_R.head()\n"
   ]
  },
  {
   "cell_type": "code",
   "execution_count": 17,
   "id": "413edca7ccebb2a8",
   "metadata": {},
   "outputs": [
    {
     "data": {
      "text/html": [
       "<div>\n",
       "<style scoped>\n",
       "    .dataframe tbody tr th:only-of-type {\n",
       "        vertical-align: middle;\n",
       "    }\n",
       "\n",
       "    .dataframe tbody tr th {\n",
       "        vertical-align: top;\n",
       "    }\n",
       "\n",
       "    .dataframe thead th {\n",
       "        text-align: right;\n",
       "    }\n",
       "</style>\n",
       "<table border=\"1\" class=\"dataframe\">\n",
       "  <thead>\n",
       "    <tr style=\"text-align: right;\">\n",
       "      <th></th>\n",
       "      <th>Address</th>\n",
       "      <th>value</th>\n",
       "      <th>ur</th>\n",
       "    </tr>\n",
       "  </thead>\n",
       "  <tbody>\n",
       "    <tr>\n",
       "      <th>275960</th>\n",
       "      <td>10004004223</td>\n",
       "      <td>8000000</td>\n",
       "      <td>U</td>\n",
       "    </tr>\n",
       "    <tr>\n",
       "      <th>275961</th>\n",
       "      <td>10004004223</td>\n",
       "      <td>200000</td>\n",
       "      <td>U</td>\n",
       "    </tr>\n",
       "    <tr>\n",
       "      <th>275962</th>\n",
       "      <td>10004004223</td>\n",
       "      <td>100000</td>\n",
       "      <td>U</td>\n",
       "    </tr>\n",
       "    <tr>\n",
       "      <th>275963</th>\n",
       "      <td>10004004223</td>\n",
       "      <td>400000</td>\n",
       "      <td>U</td>\n",
       "    </tr>\n",
       "    <tr>\n",
       "      <th>275964</th>\n",
       "      <td>10004004223</td>\n",
       "      <td>200000</td>\n",
       "      <td>U</td>\n",
       "    </tr>\n",
       "  </tbody>\n",
       "</table>\n",
       "</div>"
      ],
      "text/plain": [
       "            Address    value ur\n",
       "275960  10004004223  8000000  U\n",
       "275961  10004004223   200000  U\n",
       "275962  10004004223   100000  U\n",
       "275963  10004004223   400000  U\n",
       "275964  10004004223   200000  U"
      ]
     },
     "execution_count": 17,
     "metadata": {},
     "output_type": "execute_result"
    }
   ],
   "source": [
    "house_U.head()\n"
   ]
  },
  {
   "cell_type": "markdown",
   "id": "bc8524315210c686",
   "metadata": {},
   "source": [
    "### <div dir=\"rtl\" style=\"font-family: 'Segoe UI', Tahoma, sans-serif; font-size: 20px; color: #ffffff; font-weight: bold; padding: 10px; border-radius: 8px; background: linear-gradient(135deg, #2EA149, #60a5fa); text-align: right;\"> رسم نمودار مقایسه توزیع درآمد بین افراد شهری و روستایی</div>\n"
   ]
  },
  {
   "cell_type": "code",
   "execution_count": 18,
   "id": "940ba62743ed6689",
   "metadata": {},
   "outputs": [
    {
     "data": {
      "image/png": "[encoded data removed]",
      "text/plain": [
       "<Figure size 1000x600 with 1 Axes>"
      ]
     },
     "metadata": {},
     "output_type": "display_data"
    }
   ],
   "source": [
    "plt.figure(figsize=(10,6))\n",
    "urban_income_log = np.log1p(house_U['value'])\n",
    "rural_income_log = np.log1p(house_R['value'])\n",
    "sns.histplot(urban_income_log, color='blue', kde=True, label='Urban', stat='density', bins=30, alpha=0.6)\n",
    "sns.histplot(rural_income_log, color='green', kde=True, label='Rural', stat='density', bins=30, alpha=0.6)\n",
    "plt.title('Comparison of House value Distribution: Urban vs Rural (Logarithmic Scale)', fontsize=16)\n",
    "plt.xlabel('Log(Value)', fontsize=12)\n",
    "plt.ylabel('Density', fontsize=12) \n",
    "plt.legend(title=\"Household Type\") \n",
    "plt.grid(True)\n",
    "plt.show()\n"
   ]
  },
  {
   "cell_type": "code",
   "execution_count": 19,
   "id": "77c80a63df624bee",
   "metadata": {},
   "outputs": [
    {
     "data": {
      "image/png": "[encoded data removed]",
      "text/plain": [
       "<Figure size 800x600 with 1 Axes>"
      ]
     },
     "metadata": {},
     "output_type": "display_data"
    }
   ],
   "source": [
    "plt.figure(figsize=(8,6))\n",
    "sns.boxplot(x='ur', y='value', data=df_test2, palette='Set3')\n",
    "plt.title('House value Comparison between Urban and Rural Households')\n",
    "plt.xlabel('Urban (U) vs Rural (R)')\n",
    "plt.ylabel('Value')\n",
    "plt.show()\n"
   ]
  },
  {
   "cell_type": "code",
   "execution_count": 20,
   "id": "ec5927c9110e424a",
   "metadata": {},
   "outputs": [
    {
     "name": "stdout",
     "output_type": "stream",
     "text": [
      "statistics=46041684151.00, p=0.00\n",
      "Reject Null Hypothesis (Significant difference between two samples)\n"
     ]
    }
   ],
   "source": [
    "batch_1 = house_R['value']\n",
    "batch_2 = house_U['value']\n",
    "\n",
    "# perform mann whitney test \n",
    "stat, p_value = mannwhitneyu(batch_1, batch_2) \n",
    "print('statistics=%.2f, p=%.2f' % (stat, p_value)) \n",
    "# Level of significance \n",
    "alpha = 0.05\n",
    "# conclusion \n",
    "if p_value < alpha: \n",
    "\tprint('Reject Null Hypothesis (Significant difference between two samples)') \n",
    "else: \n",
    "\tprint('Do not Reject Null Hypothesis (No significant difference between two samples)')\n"
   ]
  },
  {
   "cell_type": "markdown",
   "id": "e45ea528c52cf8c",
   "metadata": {},
   "source": [
    "### <div dir=\"rtl\" style=\"font-family: 'Segoe UI', Tahoma, sans-serif; font-size: 20px; color: #ffffff; font-weight: bold; padding: 10px; border-radius: 8px; background: linear-gradient(135deg, #2EA149, #60a5fa); text-align: right;\"> گزارش آزمون فرض</div>\n"
   ]
  },
  {
   "cell_type": "markdown",
   "id": "922cea55b22a436c",
   "metadata": {},
   "source": [
    "<div style=\"direction: rtl; text-align: right; font-family: 'Vazir', sans-serif; background-color: #2c3e50; padding: 20px; border-radius: 8px; box-shadow: 0px 0px 10px rgba(0,0,0,0.3); color: #ecf0f1;\">\n",
    "  <h2 style=\"color: #f1c40f; text-align: center;\">گزارش آزمون فرض</h2>\n",
    "  \n",
    "  <p style=\"font-size: 16px; line-height: 1.6;\">\n",
    "    آزمون فرض برای بررسی این سوال انجام شد که آیا به طور میانگین تفاوت مشهودی میان ارزش خانه های شهری و روستایی مشاهده میکنید یا خیر. با توجه به اینکه داده ها توزیع نرمالی نداشتند ، از آزمون فرض U استفاده  کرده ایم. نتایج این آزمون به شرح زیر است :\n",
    "  </p>\n",
    "  \n",
    "  <ul style=\"font-size: 16px; line-height: 1.8;\">\n",
    "    <li><strong>آمار آزمون (U-statistic):</strong> <span style=\"color: #e74c3c;\">46041684151</span></li>\n",
    "    <li><strong>p-value مقدار :</strong> <span style=\"color: #e74c3c;\">0</span></li>\n",
    "  </ul>\n",
    "\n",
    "  <h3 style=\"color: #2ecc71;\">تحلیل:</h3>\n",
    "  \n",
    "  <p style=\"font-size: 16px; line-height: 1.6;\">\n",
    "    با توجه به مقدار بسیار کم p-value (که بسیار کمتر از سطح معنی‌داری معمول 0.05 است)، می‌توان نتیجه گرفت که فرض بیان شده رد می‌شود. به عبارت دیگر، اختلاف معنی‌داری بین میانگین ارزش خانه های شهری و روستایی وجود دارد.\n",
    "  </p>\n",
    "\n",
    "  <p style=\"font-size: 16px; line-height: 1.6;\">\n",
    "    آمار آزمون (U-statistic) نیز نشان می‌دهد که اختلاف میانگین ارزش خانه های شهری و روستایی بسیار بزرگ است. بنابراین می‌توانیم با اطمینان بالایی نتیجه‌گیری کنیم که ارزش خانه های شهری به طور قابل توجهی بیشتر از ارزش خانه های روستایی است.\n",
    "  </p>\n",
    "\n",
    "  <p style=\"font-size: 16px; line-height: 1.6; color: #27ae60;\">\n",
    "    در نهایت، نتیجه آزمون نشان‌دهنده این است که ارزش خانه های شهری و روستایی برابر نیستند و تفاوت معناداری بین این دو گروه وجود دارد.\n",
    "  </p>\n",
    "</div>\n"
   ]
  },
  {
   "cell_type": "markdown",
   "id": "2049fd61f186964",
   "metadata": {},
   "source": [
    "## <div dir=\"rtl\" style=\"font-family: 'Segoe UI', Tahoma, sans-serif; font-size: 24px; color: #ffffff; font-weight: bold; padding: 12px; border-radius: 8px; background: linear-gradient(#2EA149, #1e3a8a, #4f46e5); text-align: right;\"> تست فرض سوم </div>\n"
   ]
  },
  {
   "cell_type": "markdown",
   "id": "27bdf3aa791a1217",
   "metadata": {},
   "source": [
    "### <div dir=\"rtl\" style=\"font-family: 'Segoe UI', Tahoma, sans-serif; font-size: 20px; color: #ffffff; font-weight: bold; padding: 10px; border-radius: 8px; background: linear-gradient(135deg, #2EA149, #60a5fa); text-align: right;\"> خواندن دیتا </div>\n"
   ]
  },
  {
   "cell_type": "markdown",
   "id": "604559c3f414bb00",
   "metadata": {},
   "source": [
    "- <div dir=\"rtl\" style=\"font-family: 'Segoe UI', Tahoma, sans-serif; font-size: 20px; color: #ffffff; font-weight: bold; padding: 10px; border-radius: 8px; background: linear-gradient(135deg, #2EA149, #60a5fa); text-align: right;\"> از آنجا که در پرسشنامه بخش میزان تحصیلات شامل گزینه‌ی \"سایر\" بود، دو حالت که \"سایر\" شامل مدارک دانشگاهی می‌شود و نمی‌شود را بررسی میکنیم </div>\n"
   ]
  },
  {
   "cell_type": "code",
   "execution_count": 21,
   "id": "6bea92f4b89ffdd6",
   "metadata": {},
   "outputs": [],
   "source": [
    "df=pd.read_csv('df_test3.csv')\n",
    "df2=df.copy()\n"
   ]
  },
  {
   "cell_type": "markdown",
   "id": "9db4dfaa",
   "metadata": {},
   "source": [
    "### <div dir=\"rtl\" style=\"font-family: 'Segoe UI', Tahoma, sans-serif; font-size: 20px; color: #ffffff; font-weight: bold; padding: 10px; border-radius: 8px; background: linear-gradient(135deg, #2EA149, #60a5fa); text-align: right;\"> بررسی دیتا </div>\n"
   ]
  },
  {
   "cell_type": "code",
   "execution_count": 22,
   "id": "c473fb1267055c9b",
   "metadata": {},
   "outputs": [
    {
     "data": {
      "text/html": [
       "<div>\n",
       "<style scoped>\n",
       "    .dataframe tbody tr th:only-of-type {\n",
       "        vertical-align: middle;\n",
       "    }\n",
       "\n",
       "    .dataframe tbody tr th {\n",
       "        vertical-align: top;\n",
       "    }\n",
       "\n",
       "    .dataframe thead th {\n",
       "        text-align: right;\n",
       "    }\n",
       "</style>\n",
       "<table border=\"1\" class=\"dataframe\">\n",
       "  <thead>\n",
       "    <tr style=\"text-align: right;\">\n",
       "      <th></th>\n",
       "      <th>Address</th>\n",
       "      <th>income</th>\n",
       "      <th>state</th>\n",
       "    </tr>\n",
       "  </thead>\n",
       "  <tbody>\n",
       "    <tr>\n",
       "      <th>0</th>\n",
       "      <td>10001000108</td>\n",
       "      <td>1.960000e+09</td>\n",
       "      <td>True</td>\n",
       "    </tr>\n",
       "    <tr>\n",
       "      <th>1</th>\n",
       "      <td>10001000111</td>\n",
       "      <td>1.800000e+09</td>\n",
       "      <td>False</td>\n",
       "    </tr>\n",
       "    <tr>\n",
       "      <th>2</th>\n",
       "      <td>10001000113</td>\n",
       "      <td>3.552000e+09</td>\n",
       "      <td>True</td>\n",
       "    </tr>\n",
       "    <tr>\n",
       "      <th>3</th>\n",
       "      <td>10001000114</td>\n",
       "      <td>1.440000e+08</td>\n",
       "      <td>False</td>\n",
       "    </tr>\n",
       "    <tr>\n",
       "      <th>4</th>\n",
       "      <td>10001000116</td>\n",
       "      <td>2.616000e+09</td>\n",
       "      <td>False</td>\n",
       "    </tr>\n",
       "  </tbody>\n",
       "</table>\n",
       "</div>"
      ],
      "text/plain": [
       "       Address        income  state\n",
       "0  10001000108  1.960000e+09   True\n",
       "1  10001000111  1.800000e+09  False\n",
       "2  10001000113  3.552000e+09   True\n",
       "3  10001000114  1.440000e+08  False\n",
       "4  10001000116  2.616000e+09  False"
      ]
     },
     "execution_count": 22,
     "metadata": {},
     "output_type": "execute_result"
    }
   ],
   "source": [
    "df.head()\n"
   ]
  },
  {
   "cell_type": "markdown",
   "id": "21b45ea9",
   "metadata": {},
   "source": [
    "### <div dir=\"rtl\" style=\"font-family: 'Segoe UI', Tahoma, sans-serif; font-size: 20px; color: #ffffff; font-weight: bold; padding: 10px; border-radius: 8px; background: linear-gradient(135deg, #2EA149, #60a5fa); text-align: right;\"> ایجاد لیست های مدارک دانشگاهی </div>\n"
   ]
  },
  {
   "cell_type": "code",
   "execution_count": 23,
   "id": "56cf5079189dcc",
   "metadata": {},
   "outputs": [],
   "source": [
    "university_degrees = ['Bachelor', 'Master', 'PhD']\n",
    "university_degrees2 = ['Bachelor', 'Master', 'PhD','other']\n",
    "\n"
   ]
  },
  {
   "cell_type": "markdown",
   "id": "48ef6d431faa1559",
   "metadata": {},
   "source": [
    "### <div dir=\"rtl\" style=\"font-family: 'Segoe UI', Tahoma, sans-serif; font-size: 20px; color: #ffffff; font-weight: bold; padding: 10px; border-radius: 8px; background: linear-gradient(135deg, #2EA149, #60a5fa); text-align: right;\"> اجرای آزمون فرض </div>\n"
   ]
  },
  {
   "cell_type": "markdown",
   "id": "b5bba701a786c82d",
   "metadata": {},
   "source": [
    "- <div dir=\"rtl\" style=\"font-family: 'Segoe UI', Tahoma, sans-serif; font-size: 20px; color: #ffffff; font-weight: bold; padding: 10px; border-radius: 8px; background: linear-gradient(135deg, #2EA149, #60a5fa); text-align: right;\"> بررسی حالت اول</div>\n"
   ]
  },
  {
   "cell_type": "code",
   "execution_count": 24,
   "id": "b93a835088275065",
   "metadata": {},
   "outputs": [
    {
     "name": "stdout",
     "output_type": "stream",
     "text": [
      "T-statistics: 14.206100319926804\n",
      "P-value: 9.392913056568943e-46\n",
      "There is a significant difference in annual income between the groups.\n"
     ]
    }
   ],
   "source": [
    "# for \"other\" not considered as a university degree\n",
    "uni = df[df['state'] == True]['income']\n",
    "non_uni= df[df['state'] == False]['income']\n",
    "\n",
    "\n",
    "t_stat, p_value = stats.ttest_ind(uni, non_uni)\n",
    "\n",
    "\n",
    "print(f\"T-statistics: {t_stat}\")\n",
    "print(f\"P-value: {p_value}\")\n",
    "\n",
    "\n",
    "if p_value < 0.05:\n",
    "    print(\"There is a significant difference in annual income between the groups.\")\n",
    "else:\n",
    "    print(\"There is no significant difference in annual income between the groups.\")\n"
   ]
  },
  {
   "cell_type": "markdown",
   "id": "6a47e319",
   "metadata": {},
   "source": [
    "<div style=\"direction: rtl; text-align: right; font-family: 'Vazir', sans-serif; background-color: #2c3e50; padding: 20px; border-radius: 8px; box-shadow: 0px 0px 10px rgba(0,0,0,0.3); color: #ecf0f1;\">\n",
    "  <h2 style=\"color: #f1c40f; text-align: center;\">گزارش آزمون فرض</h2>\n",
    "  \n",
    "  <p style=\"font-size: 16px; line-height: 1.6;\">\n",
    "    آزمون فرض برای بررسی این سوال انجام شد که آیا درآمد خانوارهای شهری و روستایی در استان چهارمحال و بختیاری برابر است یا خیر. برای این منظور، از آزمون t دو نمونه‌ای مستقل استفاده کردیم. نتایج این آزمون به شرح زیر است:\n",
    "  </p>\n",
    "  \n",
    "  <ul style=\"font-size: 16px; line-height: 1.8;\">\n",
    "    <li><strong>آمار آزمون (T-statistic):</strong> <span style=\"color: #e74c3c;\">14.20</span></li>\n",
    "    <li><strong>p-value مقدار :</strong> <span style=\"color: #e74c3c;\">9.39e-46</span></li>\n",
    "  </ul>\n",
    "\n",
    "  <h3 style=\"color: #2ecc71;\">تحلیل:</h3>\n",
    "  \n",
    "  <p style=\"font-size: 16px; line-height: 1.6;\">\n",
    "    با توجه به مقدار بسیار کم p-value (که بسیار کمتر از سطح معنی‌داری معمول 0.05 است)، می‌توان نتیجه گرفت که اختلاف معنی‌داری بین درآمد سالانه افرادی که به دانشگاه رفته اند و افرادی که به دانشگاه نرفته اند، وجود دارد.\n",
    "  </p>\n",
    "\n",
    "  <p style=\"font-size: 16px; line-height: 1.6;\">\n",
    "    آمار آزمون (T-statistic) نیز نشان می‌دهد که اختلاف درآمد میان افرادی که به دانشگاه رفته اند و افرادی که به دانشگاه نرفته اند بسیار بزرگ است. بنابراین می‌توانیم با اطمینان بالایی نتیجه‌گیری کنیم که درآمد افرادی که به دانشگاه رفته اند بسیار بیشتر از درآمد افرادی است که به دانشگاه نرفته اند.\n",
    "  </p>\n",
    "\n",
    "  <p style=\"font-size: 16px; line-height: 1.6; color: #27ae60;\">\n",
    "    در نهایت، نتیجه آزمون نشان‌دهنده این است که مجموع درآمد سالانه افرادی که به دانشگاه رفته اند و افرادی که به دانشگاه نرفته اند برابر نبوده و تفاوت معناداری بین این دو گروه وجود دارد.\n",
    "  </p>\n",
    "</div>\n"
   ]
  },
  {
   "cell_type": "markdown",
   "id": "bb3844954683345c",
   "metadata": {},
   "source": [
    "- <div dir=\"rtl\" style=\"font-family: 'Segoe UI', Tahoma, sans-serif; font-size: 20px; color: #ffffff; font-weight: bold; padding: 10px; border-radius: 8px; background: linear-gradient(135deg, #2EA149, #60a5fa); text-align: right;\"> بررسی حالت دوم </div>\n"
   ]
  },
  {
   "cell_type": "code",
   "execution_count": 25,
   "id": "7685c26ab943c96d",
   "metadata": {},
   "outputs": [
    {
     "name": "stdout",
     "output_type": "stream",
     "text": [
      "T-statistics: 14.206100319926804\n",
      "P-value: 9.392913056568943e-46\n",
      "There is a significant difference in annual income between the two groups.\n"
     ]
    }
   ],
   "source": [
    "# for \"other\" considered as a university degree\n",
    "unii = df2[df2['state'] == True]['income']\n",
    "non_unii= df2[df2['state'] == False]['income']\n",
    "\n",
    "t_stat, p_value = stats.ttest_ind(unii, non_unii)\n",
    "\n",
    "\n",
    "print(f\"T-statistics: {t_stat}\")\n",
    "print(f\"P-value: {p_value}\")\n",
    "\n",
    "if p_value < 0.05:\n",
    "    print(\"There is a significant difference in annual income between the two groups.\")\n",
    "else:\n",
    "    print(\"There is no significant difference in annual income between the two groups.\")\n"
   ]
  },
  {
   "cell_type": "markdown",
   "id": "628da3f9",
   "metadata": {},
   "source": [
    "<div style=\"direction: rtl; text-align: right; font-family: 'Vazir', sans-serif; background-color: #2c3e50; padding: 20px; border-radius: 8px; box-shadow: 0px 0px 10px rgba(0,0,0,0.3); color: #ecf0f1;\">\n",
    "  <h2 style=\"color: #f1c40f; text-align: center;\">گزارش آزمون فرض</h2>\n",
    "  \n",
    "  <p style=\"font-size: 16px; line-height: 1.6;\">\n",
    "    آزمون فرض برای بررسی این سوال انجام شد که آیا میان مجموع درآمد سالانه افرادی که به دانشگاه رفته اند و افرادی که به دانشگاه نرفته اند تفاوت\n",
    "معناداری وجود دارد یا خیر. برای این منظور، از آزمون t دو نمونه‌ای مستقل استفاده کردیم. نتایج این آزمون به شرح زیر است:\n",
    "  </p>\n",
    "  \n",
    "  <ul style=\"font-size: 16px; line-height: 1.8;\">\n",
    "    <li><strong>آمار آزمون (T-statistic):</strong> <span style=\"color: #e74c3c;\">14.20</span></li>\n",
    "    <li><strong>p-value مقدار :</strong> <span style=\"color: #e74c3c;\">9.39e-46</span></li>\n",
    "  </ul>\n",
    "\n",
    "  <h3 style=\"color: #2ecc71;\">تحلیل:</h3>\n",
    "  \n",
    "  <p style=\"font-size: 16px; line-height: 1.6;\">\n",
    "    با توجه به مقدار بسیار کم p-value (که بسیار کمتر از سطح معنی‌داری معمول 0.05 است)، می‌توان نتیجه گرفت که اختلاف معنی‌داری بین درآمد سالانه افرادی که به دانشگاه رفته اند و افرادی که به دانشگاه نرفته اند، وجود دارد.\n",
    "  </p>\n",
    "\n",
    "  <p style=\"font-size: 16px; line-height: 1.6;\">\n",
    "    آمار آزمون (T-statistic) نیز نشان می‌دهد که اختلاف درآمد میان افرادی که به دانشگاه رفته اند و افرادی که به دانشگاه نرفته اند بسیار بزرگ است. بنابراین می‌توانیم با اطمینان بالایی نتیجه‌گیری کنیم که درآمد افرادی که به دانشگاه رفته اند بسیار بیشتر از درآمد افرادی است که به دانشگاه نرفته اند.\n",
    "  </p>\n",
    "\n",
    "  <p style=\"font-size: 16px; line-height: 1.6; color: #27ae60;\">\n",
    "    در نهایت، نتیجه آزمون نشان‌دهنده این است که مجموع درآمد سالانه افرادی که به دانشگاه رفته اند و افرادی که به دانشگاه نرفته اند برابر نبوده و تفاوت معناداری بین این دو گروه وجود دارد.\n",
    "  </p>\n",
    "</div>\n"
   ]
  },
  {
   "cell_type": "markdown",
   "id": "730d4376858ec68",
   "metadata": {},
   "source": [
    "## <div dir=\"rtl\" style=\"font-family: 'Segoe UI', Tahoma, sans-serif; font-size: 24px; color: #ffffff; font-weight: bold; padding: 12px; border-radius: 8px; background: linear-gradient(#2EA149, #1e3a8a, #4f46e5); text-align: right;\"> تست فرض چهارم </div>\n"
   ]
  },
  {
   "cell_type": "markdown",
   "id": "1bcf78d5e1b069d0",
   "metadata": {},
   "source": [
    "### <div dir=\"rtl\" style=\"font-family: 'Segoe UI', Tahoma, sans-serif; font-size: 20px; color: #ffffff; font-weight: bold; padding: 10px; border-radius: 8px; background: linear-gradient(135deg, #2EA149, #60a5fa); text-align: right;\"> خواندن دیتا </div>\n"
   ]
  },
  {
   "cell_type": "code",
   "execution_count": 26,
   "id": "f1defc901b4c1147",
   "metadata": {},
   "outputs": [],
   "source": [
    "df_test4=pd.read_csv('df_test4.csv')\n"
   ]
  },
  {
   "cell_type": "markdown",
   "id": "53669d4d1a4ed425",
   "metadata": {},
   "source": [
    "### <div dir=\"rtl\" style=\"font-family: 'Segoe UI', Tahoma, sans-serif; font-size: 20px; color: #ffffff; font-weight: bold; padding: 10px; border-radius: 8px; background: linear-gradient(135deg, #2EA149, #60a5fa); text-align: right;\"> بررسی دیتا </div>\n"
   ]
  },
  {
   "cell_type": "code",
   "execution_count": 27,
   "id": "6cc4228fae069b5f",
   "metadata": {},
   "outputs": [
    {
     "name": "stdout",
     "output_type": "stream",
     "text": [
      "<class 'pandas.core.frame.DataFrame'>\n",
      "RangeIndex: 63950 entries, 0 to 63949\n",
      "Data columns (total 4 columns):\n",
      " #   Column   Non-Null Count  Dtype  \n",
      "---  ------   --------------  -----  \n",
      " 0   Address  63950 non-null  int64  \n",
      " 1   member   63950 non-null  float64\n",
      " 2   income   63950 non-null  float64\n",
      " 3   year     63950 non-null  int64  \n",
      "dtypes: float64(2), int64(2)\n",
      "memory usage: 2.0 MB\n"
     ]
    }
   ],
   "source": [
    "df_test4.info()\n"
   ]
  },
  {
   "cell_type": "code",
   "execution_count": 28,
   "id": "684a4aabc60cd421",
   "metadata": {},
   "outputs": [
    {
     "data": {
      "text/html": [
       "<div>\n",
       "<style scoped>\n",
       "    .dataframe tbody tr th:only-of-type {\n",
       "        vertical-align: middle;\n",
       "    }\n",
       "\n",
       "    .dataframe tbody tr th {\n",
       "        vertical-align: top;\n",
       "    }\n",
       "\n",
       "    .dataframe thead th {\n",
       "        text-align: right;\n",
       "    }\n",
       "</style>\n",
       "<table border=\"1\" class=\"dataframe\">\n",
       "  <thead>\n",
       "    <tr style=\"text-align: right;\">\n",
       "      <th></th>\n",
       "      <th>Address</th>\n",
       "      <th>member</th>\n",
       "      <th>income</th>\n",
       "      <th>year</th>\n",
       "    </tr>\n",
       "  </thead>\n",
       "  <tbody>\n",
       "    <tr>\n",
       "      <th>count</th>\n",
       "      <td>6.395000e+04</td>\n",
       "      <td>63950.000000</td>\n",
       "      <td>6.395000e+04</td>\n",
       "      <td>63950.000000</td>\n",
       "    </tr>\n",
       "    <tr>\n",
       "      <th>mean</th>\n",
       "      <td>1.154435e+10</td>\n",
       "      <td>1.674605</td>\n",
       "      <td>7.244200e+08</td>\n",
       "      <td>1400.507975</td>\n",
       "    </tr>\n",
       "    <tr>\n",
       "      <th>std</th>\n",
       "      <td>8.871642e+08</td>\n",
       "      <td>1.057036</td>\n",
       "      <td>2.567117e+09</td>\n",
       "      <td>0.499940</td>\n",
       "    </tr>\n",
       "    <tr>\n",
       "      <th>min</th>\n",
       "      <td>1.000100e+10</td>\n",
       "      <td>0.000000</td>\n",
       "      <td>0.000000e+00</td>\n",
       "      <td>1400.000000</td>\n",
       "    </tr>\n",
       "    <tr>\n",
       "      <th>25%</th>\n",
       "      <td>1.081310e+10</td>\n",
       "      <td>1.000000</td>\n",
       "      <td>1.000000e+07</td>\n",
       "      <td>1400.000000</td>\n",
       "    </tr>\n",
       "    <tr>\n",
       "      <th>50%</th>\n",
       "      <td>1.150619e+10</td>\n",
       "      <td>1.000000</td>\n",
       "      <td>4.200000e+08</td>\n",
       "      <td>1401.000000</td>\n",
       "    </tr>\n",
       "    <tr>\n",
       "      <th>75%</th>\n",
       "      <td>1.230128e+10</td>\n",
       "      <td>2.000000</td>\n",
       "      <td>8.400000e+08</td>\n",
       "      <td>1401.000000</td>\n",
       "    </tr>\n",
       "    <tr>\n",
       "      <th>max</th>\n",
       "      <td>1.300638e+10</td>\n",
       "      <td>11.000000</td>\n",
       "      <td>2.702800e+11</td>\n",
       "      <td>1401.000000</td>\n",
       "    </tr>\n",
       "  </tbody>\n",
       "</table>\n",
       "</div>"
      ],
      "text/plain": [
       "            Address        member        income          year\n",
       "count  6.395000e+04  63950.000000  6.395000e+04  63950.000000\n",
       "mean   1.154435e+10      1.674605  7.244200e+08   1400.507975\n",
       "std    8.871642e+08      1.057036  2.567117e+09      0.499940\n",
       "min    1.000100e+10      0.000000  0.000000e+00   1400.000000\n",
       "25%    1.081310e+10      1.000000  1.000000e+07   1400.000000\n",
       "50%    1.150619e+10      1.000000  4.200000e+08   1401.000000\n",
       "75%    1.230128e+10      2.000000  8.400000e+08   1401.000000\n",
       "max    1.300638e+10     11.000000  2.702800e+11   1401.000000"
      ]
     },
     "execution_count": 28,
     "metadata": {},
     "output_type": "execute_result"
    }
   ],
   "source": [
    "df_test4.describe()\n"
   ]
  },
  {
   "cell_type": "code",
   "execution_count": 29,
   "id": "29efe060be44dc42",
   "metadata": {},
   "outputs": [
    {
     "data": {
      "text/plain": [
       "Address    0\n",
       "member     0\n",
       "income     0\n",
       "year       0\n",
       "dtype: int64"
      ]
     },
     "execution_count": 29,
     "metadata": {},
     "output_type": "execute_result"
    }
   ],
   "source": [
    "df_test4.isna().sum()\n"
   ]
  },
  {
   "cell_type": "code",
   "execution_count": 30,
   "id": "eaa4120fc29685ae",
   "metadata": {},
   "outputs": [
    {
     "data": {
      "text/plain": [
       "0        630000000.0\n",
       "1                0.0\n",
       "2                0.0\n",
       "3                0.0\n",
       "4                0.0\n",
       "            ...     \n",
       "31460    180000000.0\n",
       "31461    744000000.0\n",
       "31462    288000000.0\n",
       "31463    660000000.0\n",
       "31464     30000000.0\n",
       "Name: income, Length: 31465, dtype: float64"
      ]
     },
     "execution_count": 30,
     "metadata": {},
     "output_type": "execute_result"
    }
   ],
   "source": [
    "income_1400 = df_test4[df_test4.year == 1400].income\n",
    "income_1401 = df_test4[df_test4.year == 1401].income\n",
    "income_1400\n"
   ]
  },
  {
   "cell_type": "code",
   "execution_count": 31,
   "id": "23c6395c0f7ed6c3",
   "metadata": {},
   "outputs": [
    {
     "data": {
      "text/plain": [
       "31465    1.547000e+07\n",
       "31466    5.470000e+06\n",
       "31467    7.470000e+06\n",
       "31468    3.000000e+06\n",
       "31469    2.000000e+06\n",
       "             ...     \n",
       "63945    2.269500e+08\n",
       "63946    5.998950e+08\n",
       "63947    1.393600e+09\n",
       "63948    3.098250e+08\n",
       "63949    7.764000e+08\n",
       "Name: income, Length: 32485, dtype: float64"
      ]
     },
     "execution_count": 31,
     "metadata": {},
     "output_type": "execute_result"
    }
   ],
   "source": [
    "income_1401\n"
   ]
  },
  {
   "cell_type": "code",
   "execution_count": 32,
   "id": "db4535e98111b97a",
   "metadata": {},
   "outputs": [
    {
     "name": "stdout",
     "output_type": "stream",
     "text": [
      "Mean Income in 1400:  532488969.33621484\n",
      "Mean Income in 1401:  910324607.1138064\n"
     ]
    }
   ],
   "source": [
    "mean_income_1400 = income_1400.mean()\n",
    "mean_income_1401 = income_1401.mean()\n",
    "\n",
    "print('Mean Income in 1400: ', mean_income_1400)\n",
    "print('Mean Income in 1401: ', mean_income_1401)\n"
   ]
  },
  {
   "cell_type": "code",
   "execution_count": 33,
   "id": "73eb598762d028c9",
   "metadata": {},
   "outputs": [
    {
     "name": "stdout",
     "output_type": "stream",
     "text": [
      "Median Income in 1400:  240000000.0\n",
      "Median Income in 1401:  620000000.0\n"
     ]
    }
   ],
   "source": [
    "median_income_1400 = income_1400.median()\n",
    "median_income_1401 = income_1401.median()\n",
    "\n",
    "print('Median Income in 1400: ', median_income_1400)\n",
    "print('Median Income in 1401: ', median_income_1401)\n"
   ]
  },
  {
   "cell_type": "markdown",
   "id": "c473e550ce8daa70",
   "metadata": {},
   "source": [
    "### <div dir=\"rtl\" style=\"font-family: 'Segoe UI', Tahoma, sans-serif; font-size: 20px; color: #ffffff; font-weight: bold; padding: 10px; border-radius: 8px; background: linear-gradient(135deg, #2EA149, #60a5fa); text-align: right;\"> رسم نمودار مقایسه درآمد </div>\n"
   ]
  },
  {
   "cell_type": "code",
   "execution_count": 34,
   "id": "a5685d1bc8984bf8",
   "metadata": {},
   "outputs": [
    {
     "data": {
      "image/png": "[encoded data removed]",
      "text/plain": [
       "<Figure size 1000x600 with 1 Axes>"
      ]
     },
     "metadata": {},
     "output_type": "display_data"
    }
   ],
   "source": [
    "plt.figure(figsize=(10,6))\n",
    "income_log_1400 = np.log1p(income_1400)\n",
    "income_log_1401 = np.log1p(income_1401)\n",
    "sns.histplot(income_log_1400, color='blue', kde=True, label='1400', stat='density', bins=30, alpha=0.6)\n",
    "sns.histplot(income_log_1401, color='green', kde=True, label='1401', stat='density', bins=30, alpha=0.6)\n",
    "plt.title('Comparison of Income Distribution: 1400 vs 1401 (Logarithmic Scale)', fontsize=16)\n",
    "plt.xlabel('Log(Income)', fontsize=12)\n",
    "plt.ylabel('Density', fontsize=12)\n",
    "plt.legend(title=\"Household Type\")\n",
    "plt.grid(True)\n",
    "plt.show()\n"
   ]
  },
  {
   "cell_type": "markdown",
   "id": "f22aa6fbdd3331e6",
   "metadata": {},
   "source": [
    "### <div dir=\"rtl\" style=\"font-family: 'Segoe UI', Tahoma, sans-serif; font-size: 20px; color: #ffffff; font-weight: bold; padding: 10px; border-radius: 8px; background: linear-gradient(135deg, #2EA149, #60a5fa); text-align: right;\"> اجرای تست فرض </div>\n"
   ]
  },
  {
   "cell_type": "code",
   "execution_count": 35,
   "id": "dbc59f6cf0a1aae7",
   "metadata": {},
   "outputs": [
    {
     "name": "stdout",
     "output_type": "stream",
     "text": [
      "1400: stat = 0.1461222767829895, p_value = 0.0\n",
      "1401: stat = 0.17333418130874634, p_value = 0.0\n"
     ]
    },
    {
     "name": "stderr",
     "output_type": "stream",
     "text": [
      "c:\\Users\\Mahdi Asadi\\anaconda3\\Lib\\site-packages\\scipy\\stats\\_morestats.py:1882: UserWarning: p-value may not be accurate for N > 5000.\n",
      "  warnings.warn(\"p-value may not be accurate for N > 5000.\")\n"
     ]
    }
   ],
   "source": [
    "stat_1400, p_1400 = shapiro(income_1400)\n",
    "stat_1401, p_1401 = shapiro(income_1401)\n",
    "\n",
    "print(f\"1400: stat = {stat_1400}, p_value = {p_1400}\")\n",
    "print(f\"1401: stat = {stat_1401}, p_value = {p_1401}\")\n"
   ]
  },
  {
   "cell_type": "code",
   "execution_count": 36,
   "id": "f73619d4102fb95",
   "metadata": {},
   "outputs": [
    {
     "name": "stdout",
     "output_type": "stream",
     "text": [
      "stat = 322775883.0, p_value = 1.0\n"
     ]
    }
   ],
   "source": [
    "u_stat, p_value = mannwhitneyu(income_1400, income_1401, alternative='greater')\n",
    "print(f\"stat = {u_stat}, p_value = {p_value}\")\n"
   ]
  },
  {
   "cell_type": "code",
   "execution_count": 37,
   "id": "8894d08a9f4d7852",
   "metadata": {},
   "outputs": [
    {
     "name": "stdout",
     "output_type": "stream",
     "text": [
      "stat = -18.65811329034589, p_value = 1.744238150544083e-77\n"
     ]
    }
   ],
   "source": [
    "t_stat, p_value = ttest_ind(income_1400, income_1401)\n",
    "print(f\"stat = {t_stat}, p_value = {p_value}\")\n"
   ]
  },
  {
   "cell_type": "markdown",
   "id": "711ab797e7d68835",
   "metadata": {},
   "source": [
    "### <div dir=\"rtl\" style=\"font-family: 'Segoe UI', Tahoma, sans-serif; font-size: 20px; color: #ffffff; font-weight: bold; padding: 10px; border-radius: 8px; background: linear-gradient(135deg, #2EA149, #60a5fa); text-align: right;\"> بررسی رویکرد دوم </div>\n"
   ]
  },
  {
   "cell_type": "code",
   "execution_count": 38,
   "id": "1ba2c2e76ba37121",
   "metadata": {},
   "outputs": [
    {
     "name": "stdout",
     "output_type": "stream",
     "text": [
      "Mean Income 1400: 532488969.33621484\n",
      "Mean Income 1401: 910324607.1138064\n",
      "T-statistic: 18.65811329034589\n",
      "P-value: 8.721190752720414e-78\n",
      "Reject the null hypothesis: There is sufficient evidence that income increased in 1401.\n"
     ]
    }
   ],
   "source": [
    "data_1400 = df_test4[df_test4['year'] == 1400]['income']\n",
    "data_1401 = df_test4[df_test4['year'] == 1401]['income']\n",
    "\n",
    "mean_1400 = data_1400.mean()\n",
    "mean_1401 = data_1401.mean()\n",
    "std_1400 = data_1400.std(ddof=1) \n",
    "std_1401 = data_1401.std(ddof=1)\n",
    "\n",
    "n_1400 = len(data_1400)\n",
    "n_1401 = len(data_1401)\n",
    "\n",
    "t_statistic, p_value = stats.ttest_ind(data_1401, data_1400, alternative='greater')\n",
    "\n",
    "alpha = 0.05\n",
    "\n",
    "print(f'Mean Income 1400: {mean_1400}')\n",
    "print(f'Mean Income 1401: {mean_1401}')\n",
    "print(f'T-statistic: {t_statistic}')\n",
    "print(f'P-value: {p_value}')\n",
    "\n",
    "if p_value < alpha:\n",
    "    print(\"Reject the null hypothesis: There is sufficient evidence that income increased in 1401.\")\n",
    "else:\n",
    "    print(\"Fail to reject the null hypothesis: There is insufficient evidence that income increased in 1401.\")\n"
   ]
  },
  {
   "cell_type": "markdown",
   "id": "eb886d1f",
   "metadata": {},
   "source": [
    "<div style=\"direction: rtl; text-align: right; font-family: 'Vazir', sans-serif; background-color: #2c3e50; padding: 20px; border-radius: 8px; box-shadow: 0px 0px 10px rgba(0,0,0,0.3); color: #ecf0f1;\">\n",
    "  <h2 style=\"color: #f1c40f; text-align: center;\">گزارش آزمون فرض</h2>\n",
    "  \n",
    "  <p style=\"font-size: 16px; line-height: 1.6;\">\n",
    "    آزمون فرض برای بررسی این سوال انجام شد که فردی ادعا میکند که میزان درآمد افراد شهری در سال 1401 نسبت به سال 1400 افزایش یافته است و بنابراین؛ افراد شهری در سال 1401 ، زندگی بهتری را نسبت به سال 1400 تجربه کرده اند یا خیر. برای این منظور، از آزمون t دو نمونه‌ای مستقل استفاده کردیم. نتایج این آزمون به شرح زیر است:\n",
    "  </p>\n",
    "  \n",
    "  <ul style=\"font-size: 16px; line-height: 1.8;\">\n",
    "    <li><strong>آمار آزمون (T-statistic):</strong> <span style=\"color: #e74c3c;\">18.66</span></li>\n",
    "    <li><strong>p-value مقدار :</strong> <span style=\"color: #e74c3c;\">8.72e-78</span></li>\n",
    "  </ul>\n",
    "\n",
    "  <h3 style=\"color: #2ecc71;\">تحلیل:</h3>\n",
    "  \n",
    "  <p style=\"font-size: 16px; line-height: 1.6;\">\n",
    "    با توجه به مقدار بسیار کم p-value (که بسیار کمتر از سطح معنی‌داری معمول 0.05 است)، می‌توان نتیجه گرفت که اختلاف معنی‌داری بین درآمد افراد شهری نسبت به سال 1400 در سال 1401 وجود دارد..\n",
    "  </p>\n",
    "\n",
    "  <p style=\"font-size: 16px; line-height: 1.6;\">\n",
    "    آمار آزمون (T-statistic) نیز نشان می‌دهد که اختلاف درآمد میان افراد شهری نسبت به سال 1400 در سال 1401 بسیار بزرگ است. بنابراین می‌توانیم با اطمینان بالایی نتیجه‌گیری کنیم که درآمد افراد شهری نسبت به سال 1400 در سال 1401 بسیار بیشتر بوده..\n",
    "  </p>\n",
    "\n",
    "  <p style=\"font-size: 16px; line-height: 1.6; color: #27ae60;\">\n",
    "    در نهایت، نتیجه آزمون نشان‌دهنده این است که مجموع درآمد افراد شهری نسبت به سال 1400 و 1401 برابر نبوده و تفاوت معناداری بین این دو گروه وجود دارد.\n",
    "  </p>\n",
    "</div>\n"
   ]
  },
  {
   "cell_type": "markdown",
   "id": "9145833254e07087",
   "metadata": {},
   "source": [
    "### <div dir=\"rtl\" style=\"font-family: 'Segoe UI', Tahoma, sans-serif; font-size: 20px; color: #ffffff; font-weight: bold; padding: 10px; border-radius: 8px; background: linear-gradient(135deg, #2EA149, #60a5fa); text-align: right;\"> رسم نمودار هیستوگرام </div>\n"
   ]
  },
  {
   "cell_type": "code",
   "execution_count": 39,
   "id": "25493db6e871e1bc",
   "metadata": {},
   "outputs": [
    {
     "data": {
      "image/png": "[encoded data removed]",
      "text/plain": [
       "<Figure size 640x480 with 1 Axes>"
      ]
     },
     "metadata": {},
     "output_type": "display_data"
    }
   ],
   "source": [
    "plt.hist(df_test4['income'], bins=30, edgecolor='k', alpha=0.7)\n",
    "plt.title('Histogram of Income')\n",
    "plt.xlabel('Income')\n",
    "plt.ylabel('Frequency')\n",
    "plt.show()\n"
   ]
  },
  {
   "cell_type": "markdown",
   "id": "f7937f1e818456cd",
   "metadata": {},
   "source": [
    "### <div dir=\"rtl\" style=\"font-family: 'Segoe UI', Tahoma, sans-serif; font-size: 20px; color: #ffffff; font-weight: bold; padding: 10px; border-radius: 8px; background: linear-gradient(135deg, #2EA149, #60a5fa); text-align: right;\"> اجرای تست فرض </div>\n"
   ]
  },
  {
   "cell_type": "code",
   "execution_count": 40,
   "id": "2e2eb6366e248719",
   "metadata": {},
   "outputs": [
    {
     "name": "stdout",
     "output_type": "stream",
     "text": [
      "Statistic: 322775883.0, P-value: 0.0\n",
      "Reject the null hypothesis: There is a significant difference between the two groups.\n"
     ]
    }
   ],
   "source": [
    "stat, p = mannwhitneyu(data_1400, data_1401, alternative='less')\n",
    "print(f'Statistic: {stat}, P-value: {p}')\n",
    "\n",
    "if p < 0.05:\n",
    "    print(\"Reject the null hypothesis: There is a significant difference between the two groups.\")\n",
    "else:\n",
    "    print(\"Fail to reject the null hypothesis: No significant difference between the two groups.\")\n"
   ]
  },
  {
   "cell_type": "code",
   "execution_count": 41,
   "id": "26831aee8e0cee74",
   "metadata": {},
   "outputs": [
    {
     "name": "stdout",
     "output_type": "stream",
     "text": [
      "T-statistic: -18.65811329034589, P-value: 8.721190752720414e-78\n",
      "Reject the null hypothesis: There is a significant difference between the two groups.\n"
     ]
    }
   ],
   "source": [
    "t_statistic, p_value = ttest_ind(data_1400, data_1401, alternative='less')\n",
    "print(f'T-statistic: {t_statistic}, P-value: {p_value}')\n",
    "\n",
    "if p_value < 0.05:\n",
    "    print(\"Reject the null hypothesis: There is a significant difference between the two groups.\")\n",
    "else:\n",
    "    print(\"Fail to reject the null hypothesis: No significant difference between the two groups.\")\n"
   ]
  },
  {
   "cell_type": "markdown",
   "id": "0fe9b4c4",
   "metadata": {},
   "source": [
    "<div style=\"direction: rtl; text-align: right; font-family: 'Vazir', sans-serif; background-color: #2c3e50; padding: 20px; border-radius: 8px; box-shadow: 0px 0px 10px rgba(0,0,0,0.3); color: #ecf0f1;\">\n",
    "  <h2 style=\"color: #f1c40f; text-align: center;\">گزارش آزمون فرض</h2>\n",
    "  \n",
    "  <p style=\"font-size: 16px; line-height: 1.6;\">\n",
    "    آزمون فرض برای بررسی این سوال انجام شد که فردی ادعا میکند که میزان درآمد افراد شهری در سال 1401 نسبت به سال 1400 افزایش یافته است و بنابراین؛ افراد شهری در سال 1401 ، زندگی بهتری را نسبت به سال 1400 تجربه کرده اند یا خیر. برای این منظور، از آزمون t دو نمونه‌ای مستقل استفاده کردیم. نتایج این آزمون به شرح زیر است:\n",
    "  </p>\n",
    "  \n",
    "  <ul style=\"font-size: 16px; line-height: 1.8;\">\n",
    "    <li><strong>آمار آزمون (T-statistic):</strong> <span style=\"color: #e74c3c;\">-18.66</span></li>\n",
    "    <li><strong>p-value مقدار :</strong> <span style=\"color: #e74c3c;\">8.72e-78</span></li>\n",
    "  </ul>\n",
    "\n",
    "  <h3 style=\"color: #2ecc71;\">تحلیل:</h3>\n",
    "  \n",
    "  <p style=\"font-size: 16px; line-height: 1.6;\">\n",
    "    با توجه به مقدار بسیار کم p-value (که بسیار کمتر از سطح معنی‌داری معمول 0.05 است)، می‌توان نتیجه گرفت که اختلاف معنی‌داری بین درآمد افراد شهری نسبت به سال 1400 در سال 1401 وجود دارد..\n",
    "  </p>\n",
    "\n",
    "  <p style=\"font-size: 16px; line-height: 1.6;\">\n",
    "    آمار آزمون (T-statistic) نیز نشان می‌دهد که اختلاف درآمد میان افراد شهری نسبت به سال 1400 در سال 1401 بسیار بزرگ است. بنابراین می‌توانیم با اطمینان بالایی نتیجه‌گیری کنیم که درآمد افراد شهری نسبت به سال 1400 در سال 1401 بسیار بیشتر بوده..\n",
    "  </p>\n",
    "\n",
    "  <p style=\"font-size: 16px; line-height: 1.6; color: #27ae60;\">\n",
    "    در نهایت، نتیجه آزمون نشان‌دهنده این است که مجموع درآمد افراد شهری نسبت به سال 1400 و 1401 برابر نبوده و تفاوت معناداری بین این دو گروه وجود دارد.\n",
    "  </p>\n",
    "</div>\n"
   ]
  }
 ],
 "metadata": {
  "kernelspec": {
   "display_name": "base",
   "language": "python",
   "name": "python3"
  },
  "language_info": {
   "codemirror_mode": {
    "name": "ipython",
    "version": 3
   },
   "file_extension": ".py",
   "mimetype": "text/x-python",
   "name": "python",
   "nbconvert_exporter": "python",
   "pygments_lexer": "ipython3",
   "version": "3.11.5"
  }
 },
 "nbformat": 4,
 "nbformat_minor": 5
}
