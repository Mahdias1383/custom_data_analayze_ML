{
 "cells": [
  {
   "cell_type": "code",
   "execution_count": 2,
   "metadata": {},
   "outputs": [],
   "source": [
    "import pandas as pd"
   ]
  },
  {
   "cell_type": "markdown",
   "metadata": {},
   "source": [
    "## <div dir=\"rtl\" style=\"font-family: 'Segoe UI', Tahoma, sans-serif; font-size: 24px; color: #ffffff; font-weight: bold; padding: 12px; border-radius: 8px; background: linear-gradient(135deg, #1e3a8a, #4f46e5); text-align: right;\"> سوال 5 آمار توصیفی </div>\n"
   ]
  },
  {
   "cell_type": "markdown",
   "metadata": {},
   "source": [
    "### <div dir=\"rtl\" style=\"font-family: 'Segoe UI', Tahoma, sans-serif; font-size: 20px; color: #ffffff; font-weight: bold; padding: 10px; border-radius: 8px; background: linear-gradient(135deg, #3b82f6, #60a5fa); text-align: right;\"> خواندن دیتا </div>\n"
   ]
  },
  {
   "cell_type": "code",
   "execution_count": 39,
   "metadata": {},
   "outputs": [
    {
     "data": {
      "text/html": [
       "<div>\n",
       "<style scoped>\n",
       "    .dataframe tbody tr th:only-of-type {\n",
       "        vertical-align: middle;\n",
       "    }\n",
       "\n",
       "    .dataframe tbody tr th {\n",
       "        vertical-align: top;\n",
       "    }\n",
       "\n",
       "    .dataframe thead th {\n",
       "        text-align: right;\n",
       "    }\n",
       "</style>\n",
       "<table border=\"1\" class=\"dataframe\">\n",
       "  <thead>\n",
       "    <tr style=\"text-align: right;\">\n",
       "      <th></th>\n",
       "      <th>Address</th>\n",
       "      <th>behdasht</th>\n",
       "      <th>khoraki</th>\n",
       "      <th>maskan</th>\n",
       "      <th>poshak</th>\n",
       "    </tr>\n",
       "  </thead>\n",
       "  <tbody>\n",
       "    <tr>\n",
       "      <th>0</th>\n",
       "      <td>10001000108</td>\n",
       "      <td>0.0</td>\n",
       "      <td>13424000.0</td>\n",
       "      <td>9012000.0</td>\n",
       "      <td>2250000.0</td>\n",
       "    </tr>\n",
       "    <tr>\n",
       "      <th>1</th>\n",
       "      <td>10001000111</td>\n",
       "      <td>0.0</td>\n",
       "      <td>18007000.0</td>\n",
       "      <td>21231000.0</td>\n",
       "      <td>660000.0</td>\n",
       "    </tr>\n",
       "    <tr>\n",
       "      <th>2</th>\n",
       "      <td>10001000113</td>\n",
       "      <td>20850000.0</td>\n",
       "      <td>22929000.0</td>\n",
       "      <td>17006000.0</td>\n",
       "      <td>7400000.0</td>\n",
       "    </tr>\n",
       "    <tr>\n",
       "      <th>3</th>\n",
       "      <td>10001000114</td>\n",
       "      <td>0.0</td>\n",
       "      <td>5778000.0</td>\n",
       "      <td>8264000.0</td>\n",
       "      <td>0.0</td>\n",
       "    </tr>\n",
       "    <tr>\n",
       "      <th>4</th>\n",
       "      <td>10001000116</td>\n",
       "      <td>1500000.0</td>\n",
       "      <td>34169000.0</td>\n",
       "      <td>16088000.0</td>\n",
       "      <td>5550000.0</td>\n",
       "    </tr>\n",
       "  </tbody>\n",
       "</table>\n",
       "</div>"
      ],
      "text/plain": [
       "       Address    behdasht     khoraki      maskan     poshak\n",
       "0  10001000108         0.0  13424000.0   9012000.0  2250000.0\n",
       "1  10001000111         0.0  18007000.0  21231000.0   660000.0\n",
       "2  10001000113  20850000.0  22929000.0  17006000.0  7400000.0\n",
       "3  10001000114         0.0   5778000.0   8264000.0        0.0\n",
       "4  10001000116   1500000.0  34169000.0  16088000.0  5550000.0"
      ]
     },
     "execution_count": 39,
     "metadata": {},
     "output_type": "execute_result"
    }
   ],
   "source": [
    "df1 = pd.read_csv('df_q5.csv')\n",
    "df1.head()"
   ]
  },
  {
   "cell_type": "markdown",
   "metadata": {},
   "source": [
    "### <div dir=\"rtl\" style=\"font-family: 'Segoe UI', Tahoma, sans-serif; font-size: 20px; color: #ffffff; font-weight: bold; padding: 10px; border-radius: 8px; background: linear-gradient(135deg, #3b82f6, #60a5fa); text-align: right;\"> بررسی دیتا </div>"
   ]
  },
  {
   "cell_type": "code",
   "execution_count": 40,
   "metadata": {},
   "outputs": [
    {
     "name": "stdout",
     "output_type": "stream",
     "text": [
      "<class 'pandas.core.frame.DataFrame'>\n",
      "RangeIndex: 96198 entries, 0 to 96197\n",
      "Data columns (total 5 columns):\n",
      " #   Column    Non-Null Count  Dtype  \n",
      "---  ------    --------------  -----  \n",
      " 0   Address   96198 non-null  int64  \n",
      " 1   behdasht  96198 non-null  float64\n",
      " 2   khoraki   96198 non-null  float64\n",
      " 3   maskan    96198 non-null  float64\n",
      " 4   poshak    96198 non-null  float64\n",
      "dtypes: float64(4), int64(1)\n",
      "memory usage: 3.7 MB\n"
     ]
    }
   ],
   "source": [
    "df1.info()"
   ]
  },
  {
   "cell_type": "code",
   "execution_count": 41,
   "metadata": {},
   "outputs": [
    {
     "data": {
      "text/html": [
       "<div>\n",
       "<style scoped>\n",
       "    .dataframe tbody tr th:only-of-type {\n",
       "        vertical-align: middle;\n",
       "    }\n",
       "\n",
       "    .dataframe tbody tr th {\n",
       "        vertical-align: top;\n",
       "    }\n",
       "\n",
       "    .dataframe thead th {\n",
       "        text-align: right;\n",
       "    }\n",
       "</style>\n",
       "<table border=\"1\" class=\"dataframe\">\n",
       "  <thead>\n",
       "    <tr style=\"text-align: right;\">\n",
       "      <th></th>\n",
       "      <th>Address</th>\n",
       "      <th>behdasht</th>\n",
       "      <th>khoraki</th>\n",
       "      <th>maskan</th>\n",
       "      <th>poshak</th>\n",
       "    </tr>\n",
       "  </thead>\n",
       "  <tbody>\n",
       "    <tr>\n",
       "      <th>count</th>\n",
       "      <td>9.619800e+04</td>\n",
       "      <td>9.619800e+04</td>\n",
       "      <td>9.619800e+04</td>\n",
       "      <td>9.619800e+04</td>\n",
       "      <td>9.619800e+04</td>\n",
       "    </tr>\n",
       "    <tr>\n",
       "      <th>mean</th>\n",
       "      <td>1.623172e+10</td>\n",
       "      <td>3.908492e+06</td>\n",
       "      <td>2.573975e+07</td>\n",
       "      <td>1.939174e+07</td>\n",
       "      <td>3.658294e+06</td>\n",
       "    </tr>\n",
       "    <tr>\n",
       "      <th>std</th>\n",
       "      <td>5.036020e+09</td>\n",
       "      <td>1.139726e+07</td>\n",
       "      <td>2.313421e+07</td>\n",
       "      <td>2.395730e+07</td>\n",
       "      <td>8.902919e+06</td>\n",
       "    </tr>\n",
       "    <tr>\n",
       "      <th>min</th>\n",
       "      <td>1.000100e+10</td>\n",
       "      <td>0.000000e+00</td>\n",
       "      <td>0.000000e+00</td>\n",
       "      <td>1.000000e+05</td>\n",
       "      <td>0.000000e+00</td>\n",
       "    </tr>\n",
       "    <tr>\n",
       "      <th>25%</th>\n",
       "      <td>1.140418e+10</td>\n",
       "      <td>8.000000e+04</td>\n",
       "      <td>9.873000e+06</td>\n",
       "      <td>6.100000e+06</td>\n",
       "      <td>0.000000e+00</td>\n",
       "    </tr>\n",
       "    <tr>\n",
       "      <th>50%</th>\n",
       "      <td>1.290136e+10</td>\n",
       "      <td>1.000000e+06</td>\n",
       "      <td>1.929725e+07</td>\n",
       "      <td>1.185800e+07</td>\n",
       "      <td>3.200000e+05</td>\n",
       "    </tr>\n",
       "    <tr>\n",
       "      <th>75%</th>\n",
       "      <td>2.130354e+10</td>\n",
       "      <td>3.650000e+06</td>\n",
       "      <td>3.447095e+07</td>\n",
       "      <td>2.365925e+07</td>\n",
       "      <td>3.500000e+06</td>\n",
       "    </tr>\n",
       "    <tr>\n",
       "      <th>max</th>\n",
       "      <td>2.300671e+10</td>\n",
       "      <td>8.625000e+08</td>\n",
       "      <td>6.707200e+08</td>\n",
       "      <td>8.535550e+08</td>\n",
       "      <td>3.660000e+08</td>\n",
       "    </tr>\n",
       "  </tbody>\n",
       "</table>\n",
       "</div>"
      ],
      "text/plain": [
       "            Address      behdasht       khoraki        maskan        poshak\n",
       "count  9.619800e+04  9.619800e+04  9.619800e+04  9.619800e+04  9.619800e+04\n",
       "mean   1.623172e+10  3.908492e+06  2.573975e+07  1.939174e+07  3.658294e+06\n",
       "std    5.036020e+09  1.139726e+07  2.313421e+07  2.395730e+07  8.902919e+06\n",
       "min    1.000100e+10  0.000000e+00  0.000000e+00  1.000000e+05  0.000000e+00\n",
       "25%    1.140418e+10  8.000000e+04  9.873000e+06  6.100000e+06  0.000000e+00\n",
       "50%    1.290136e+10  1.000000e+06  1.929725e+07  1.185800e+07  3.200000e+05\n",
       "75%    2.130354e+10  3.650000e+06  3.447095e+07  2.365925e+07  3.500000e+06\n",
       "max    2.300671e+10  8.625000e+08  6.707200e+08  8.535550e+08  3.660000e+08"
      ]
     },
     "execution_count": 41,
     "metadata": {},
     "output_type": "execute_result"
    }
   ],
   "source": [
    "df1.describe()"
   ]
  },
  {
   "cell_type": "markdown",
   "metadata": {},
   "source": [
    "### <div dir=\"rtl\" style=\"font-family: 'Segoe UI', Tahoma, sans-serif; font-size: 20px; color: #ffffff; font-weight: bold; padding: 10px; border-radius: 8px; background: linear-gradient(135deg, #3b82f6, #60a5fa); text-align: right;\"> بررسی مقادیر گمشده </div>"
   ]
  },
  {
   "cell_type": "code",
   "execution_count": 42,
   "metadata": {},
   "outputs": [
    {
     "data": {
      "text/plain": [
       "Address     0\n",
       "behdasht    0\n",
       "khoraki     0\n",
       "maskan      0\n",
       "poshak      0\n",
       "dtype: int64"
      ]
     },
     "execution_count": 42,
     "metadata": {},
     "output_type": "execute_result"
    }
   ],
   "source": [
    "df1.isnull().sum()"
   ]
  },
  {
   "cell_type": "code",
   "execution_count": 43,
   "metadata": {},
   "outputs": [
    {
     "data": {
      "text/plain": [
       "(96198, 5)"
      ]
     },
     "execution_count": 43,
     "metadata": {},
     "output_type": "execute_result"
    }
   ],
   "source": [
    "df1.shape"
   ]
  },
  {
   "cell_type": "markdown",
   "metadata": {},
   "source": [
    "### <div dir=\"rtl\" style=\"font-family: 'Segoe UI', Tahoma, sans-serif; font-size: 20px; color: #ffffff; font-weight: bold; padding: 10px; border-radius: 8px; background: linear-gradient(135deg, #3b82f6, #60a5fa); text-align: right;\"> حذف ستون نامرتبط </div>"
   ]
  },
  {
   "cell_type": "code",
   "execution_count": 44,
   "metadata": {},
   "outputs": [],
   "source": [
    "df1 = df1.drop(['Address'],axis=1)"
   ]
  },
  {
   "cell_type": "code",
   "execution_count": 45,
   "metadata": {},
   "outputs": [
    {
     "data": {
      "text/html": [
       "<div>\n",
       "<style scoped>\n",
       "    .dataframe tbody tr th:only-of-type {\n",
       "        vertical-align: middle;\n",
       "    }\n",
       "\n",
       "    .dataframe tbody tr th {\n",
       "        vertical-align: top;\n",
       "    }\n",
       "\n",
       "    .dataframe thead th {\n",
       "        text-align: right;\n",
       "    }\n",
       "</style>\n",
       "<table border=\"1\" class=\"dataframe\">\n",
       "  <thead>\n",
       "    <tr style=\"text-align: right;\">\n",
       "      <th></th>\n",
       "      <th>behdasht</th>\n",
       "      <th>khoraki</th>\n",
       "      <th>maskan</th>\n",
       "      <th>poshak</th>\n",
       "    </tr>\n",
       "  </thead>\n",
       "  <tbody>\n",
       "    <tr>\n",
       "      <th>0</th>\n",
       "      <td>0.0</td>\n",
       "      <td>13424000.0</td>\n",
       "      <td>9012000.0</td>\n",
       "      <td>2250000.0</td>\n",
       "    </tr>\n",
       "    <tr>\n",
       "      <th>1</th>\n",
       "      <td>0.0</td>\n",
       "      <td>18007000.0</td>\n",
       "      <td>21231000.0</td>\n",
       "      <td>660000.0</td>\n",
       "    </tr>\n",
       "    <tr>\n",
       "      <th>2</th>\n",
       "      <td>20850000.0</td>\n",
       "      <td>22929000.0</td>\n",
       "      <td>17006000.0</td>\n",
       "      <td>7400000.0</td>\n",
       "    </tr>\n",
       "    <tr>\n",
       "      <th>3</th>\n",
       "      <td>0.0</td>\n",
       "      <td>5778000.0</td>\n",
       "      <td>8264000.0</td>\n",
       "      <td>0.0</td>\n",
       "    </tr>\n",
       "    <tr>\n",
       "      <th>4</th>\n",
       "      <td>1500000.0</td>\n",
       "      <td>34169000.0</td>\n",
       "      <td>16088000.0</td>\n",
       "      <td>5550000.0</td>\n",
       "    </tr>\n",
       "  </tbody>\n",
       "</table>\n",
       "</div>"
      ],
      "text/plain": [
       "     behdasht     khoraki      maskan     poshak\n",
       "0         0.0  13424000.0   9012000.0  2250000.0\n",
       "1         0.0  18007000.0  21231000.0   660000.0\n",
       "2  20850000.0  22929000.0  17006000.0  7400000.0\n",
       "3         0.0   5778000.0   8264000.0        0.0\n",
       "4   1500000.0  34169000.0  16088000.0  5550000.0"
      ]
     },
     "execution_count": 45,
     "metadata": {},
     "output_type": "execute_result"
    }
   ],
   "source": [
    "df1.head()"
   ]
  },
  {
   "cell_type": "code",
   "execution_count": null,
   "metadata": {},
   "outputs": [],
   "source": []
  },
  {
   "cell_type": "markdown",
   "metadata": {},
   "source": [
    "### <div dir=\"rtl\" style=\"font-family: 'Segoe UI', Tahoma, sans-serif; font-size: 20px; color: #ffffff; font-weight: bold; padding: 10px; border-radius: 8px; background: linear-gradient(135deg, #3b82f6, #60a5fa); text-align: right;\"> Detecting & Removing Outliers </div>"
   ]
  },
  {
   "cell_type": "code",
   "execution_count": 46,
   "metadata": {},
   "outputs": [],
   "source": [
    "import matplotlib.pyplot as plt\n",
    "import seaborn as sns\n",
    "import numpy as np"
   ]
  },
  {
   "cell_type": "code",
   "execution_count": 47,
   "metadata": {},
   "outputs": [
    {
     "data": {
      "image/png": "[encoded data removed]",
      "text/plain": [
       "<Figure size 1000x600 with 1 Axes>"
      ]
     },
     "metadata": {},
     "output_type": "display_data"
    }
   ],
   "source": [
    "plt.figure(figsize=(10,6))\n",
    "behdasht_log = np.log1p(df1['behdasht'])\n",
    "khoraki_log = np.log1p(df1['khoraki'])\n",
    "maskan_log = np.log1p(df1['maskan'])\n",
    "poshak_log = np.log1p(df1['poshak'])\n",
    "\n",
    "sns.histplot(behdasht_log, color='blue', kde=True, label='behdasht', stat='density', bins=30, alpha=0.6)\n",
    "sns.histplot(khoraki_log, color='green', kde=True, label='khoraki', stat='density', bins=30, alpha=0.6)\n",
    "sns.histplot(maskan_log, color='yellow', kde=True, label='maskan', stat='density', bins=30, alpha=0.6)\n",
    "sns.histplot(poshak_log, color='pink', kde=True, label='poshak', stat='density', bins=30, alpha=0.6)\n",
    "\n",
    "plt.title('Comparison (Logarithmic Scale)', fontsize=16) \n",
    "plt.legend(title=\"columns\")\n",
    "plt.grid(True)\n",
    "plt.show()"
   ]
  },
  {
   "cell_type": "code",
   "execution_count": 48,
   "metadata": {},
   "outputs": [
    {
     "name": "stderr",
     "output_type": "stream",
     "text": [
      "C:\\Users\\OMO\\AppData\\Local\\Temp\\ipykernel_6276\\4226171291.py:6: FutureWarning: \n",
      "\n",
      "Passing `palette` without assigning `hue` is deprecated and will be removed in v0.14.0. Assign the `x` variable to `hue` and set `legend=False` for the same effect.\n",
      "\n",
      "  sns.boxplot(x='Ucolumns', y='price', data=df_melted, palette='Set3')\n"
     ]
    },
    {
     "data": {
      "image/png": "[encoded data removed]",
      "text/plain": [
       "<Figure size 800x600 with 1 Axes>"
      ]
     },
     "metadata": {},
     "output_type": "display_data"
    }
   ],
   "source": [
    "# Melting the dataframe to reshape for boxplot\n",
    "df_melted = df1.melt(value_vars=['behdasht', 'khoraki', 'maskan', 'poshak'], var_name='Ucolumns', value_name='price')\n",
    "\n",
    "# Plotting the boxplot\n",
    "plt.figure(figsize=(8,6))\n",
    "sns.boxplot(x='Ucolumns', y='price', data=df_melted, palette='Set3')\n",
    "plt.title('Comparison of Behdasht, Khoraki, Maskan, and Poshak')\n",
    "plt.xlabel('Columns')\n",
    "plt.ylabel('Price')\n",
    "plt.show() "
   ]
  },
  {
   "cell_type": "code",
   "execution_count": 61,
   "metadata": {},
   "outputs": [],
   "source": [
    "import numpy as np\n",
    "\n",
    "def remove_outliers(df, column):\n",
    "    print(\"Old Shape: \", df.shape)\n",
    "\n",
    "    # Calculate Q1 (25th percentile) and Q3 (75th percentile)\n",
    "    Q1 = df[column].quantile(0.25)\n",
    "    Q3 = df[column].quantile(0.75)\n",
    "    \n",
    "    # Calculate IQR\n",
    "    IQR = Q3 - Q1\n",
    "    \n",
    "    # Define lower and upper bounds for outliers\n",
    "    lower_bound = Q1 - 1.5 * IQR\n",
    "    upper_bound = Q3 + 1.5 * IQR\n",
    "\n",
    "    # Filter the dataframe to remove outliers\n",
    "    df_filtered = df[(df[column] >= lower_bound) & (df[column] <= upper_bound)]\n",
    "    \n",
    "    # Print the new shape of the DataFrame\n",
    "    print(\"New Shape: \", df_filtered.shape)\n",
    "\n",
    "    # Combine the filtered data with rows that had NaN values (if you want to keep them)\n",
    "    #df.update(df_filtered) \n",
    "\n",
    "    return df_filtered\n"
   ]
  },
  {
   "cell_type": "code",
   "execution_count": 63,
   "metadata": {},
   "outputs": [
    {
     "name": "stdout",
     "output_type": "stream",
     "text": [
      "Old Shape:  (96198, 4)\n",
      "New Shape:  (84644, 4)\n"
     ]
    },
    {
     "data": {
      "text/html": [
       "<div>\n",
       "<style scoped>\n",
       "    .dataframe tbody tr th:only-of-type {\n",
       "        vertical-align: middle;\n",
       "    }\n",
       "\n",
       "    .dataframe tbody tr th {\n",
       "        vertical-align: top;\n",
       "    }\n",
       "\n",
       "    .dataframe thead th {\n",
       "        text-align: right;\n",
       "    }\n",
       "</style>\n",
       "<table border=\"1\" class=\"dataframe\">\n",
       "  <thead>\n",
       "    <tr style=\"text-align: right;\">\n",
       "      <th></th>\n",
       "      <th>behdasht</th>\n",
       "      <th>khoraki</th>\n",
       "      <th>maskan</th>\n",
       "      <th>poshak</th>\n",
       "    </tr>\n",
       "  </thead>\n",
       "  <tbody>\n",
       "    <tr>\n",
       "      <th>0</th>\n",
       "      <td>0.0</td>\n",
       "      <td>13424000.0</td>\n",
       "      <td>9012000.0</td>\n",
       "      <td>2250000.0</td>\n",
       "    </tr>\n",
       "    <tr>\n",
       "      <th>1</th>\n",
       "      <td>0.0</td>\n",
       "      <td>18007000.0</td>\n",
       "      <td>21231000.0</td>\n",
       "      <td>660000.0</td>\n",
       "    </tr>\n",
       "    <tr>\n",
       "      <th>2</th>\n",
       "      <td>20850000.0</td>\n",
       "      <td>22929000.0</td>\n",
       "      <td>17006000.0</td>\n",
       "      <td>7400000.0</td>\n",
       "    </tr>\n",
       "    <tr>\n",
       "      <th>3</th>\n",
       "      <td>0.0</td>\n",
       "      <td>5778000.0</td>\n",
       "      <td>8264000.0</td>\n",
       "      <td>0.0</td>\n",
       "    </tr>\n",
       "    <tr>\n",
       "      <th>4</th>\n",
       "      <td>1500000.0</td>\n",
       "      <td>34169000.0</td>\n",
       "      <td>16088000.0</td>\n",
       "      <td>5550000.0</td>\n",
       "    </tr>\n",
       "    <tr>\n",
       "      <th>...</th>\n",
       "      <td>...</td>\n",
       "      <td>...</td>\n",
       "      <td>...</td>\n",
       "      <td>...</td>\n",
       "    </tr>\n",
       "    <tr>\n",
       "      <th>96188</th>\n",
       "      <td>300000.0</td>\n",
       "      <td>11490500.0</td>\n",
       "      <td>17428000.0</td>\n",
       "      <td>600000.0</td>\n",
       "    </tr>\n",
       "    <tr>\n",
       "      <th>96192</th>\n",
       "      <td>0.0</td>\n",
       "      <td>13684000.0</td>\n",
       "      <td>22780000.0</td>\n",
       "      <td>0.0</td>\n",
       "    </tr>\n",
       "    <tr>\n",
       "      <th>96193</th>\n",
       "      <td>0.0</td>\n",
       "      <td>9960000.0</td>\n",
       "      <td>23130000.0</td>\n",
       "      <td>0.0</td>\n",
       "    </tr>\n",
       "    <tr>\n",
       "      <th>96196</th>\n",
       "      <td>8750000.0</td>\n",
       "      <td>8600000.0</td>\n",
       "      <td>40950000.0</td>\n",
       "      <td>300000.0</td>\n",
       "    </tr>\n",
       "    <tr>\n",
       "      <th>96197</th>\n",
       "      <td>500000.0</td>\n",
       "      <td>14265320.0</td>\n",
       "      <td>41400000.0</td>\n",
       "      <td>6000000.0</td>\n",
       "    </tr>\n",
       "  </tbody>\n",
       "</table>\n",
       "<p>84644 rows × 4 columns</p>\n",
       "</div>"
      ],
      "text/plain": [
       "         behdasht     khoraki      maskan     poshak\n",
       "0             0.0  13424000.0   9012000.0  2250000.0\n",
       "1             0.0  18007000.0  21231000.0   660000.0\n",
       "2      20850000.0  22929000.0  17006000.0  7400000.0\n",
       "3             0.0   5778000.0   8264000.0        0.0\n",
       "4       1500000.0  34169000.0  16088000.0  5550000.0\n",
       "...           ...         ...         ...        ...\n",
       "96188    300000.0  11490500.0  17428000.0   600000.0\n",
       "96192         0.0  13684000.0  22780000.0        0.0\n",
       "96193         0.0   9960000.0  23130000.0        0.0\n",
       "96196   8750000.0   8600000.0  40950000.0   300000.0\n",
       "96197    500000.0  14265320.0  41400000.0  6000000.0\n",
       "\n",
       "[84644 rows x 4 columns]"
      ]
     },
     "execution_count": 63,
     "metadata": {},
     "output_type": "execute_result"
    }
   ],
   "source": [
    "df1 = remove_outliers(df1,'poshak')\n",
    "df1"
   ]
  },
  {
   "cell_type": "code",
   "execution_count": 64,
   "metadata": {},
   "outputs": [
    {
     "name": "stdout",
     "output_type": "stream",
     "text": [
      "Old Shape:  (84644, 4)\n",
      "New Shape:  (81317, 4)\n"
     ]
    }
   ],
   "source": [
    "df1 = remove_outliers(df1,'khoraki')"
   ]
  },
  {
   "cell_type": "code",
   "execution_count": 65,
   "metadata": {},
   "outputs": [
    {
     "name": "stdout",
     "output_type": "stream",
     "text": [
      "Old Shape:  (81317, 4)\n",
      "New Shape:  (75593, 4)\n"
     ]
    }
   ],
   "source": [
    "df1 = remove_outliers(df1,'maskan')"
   ]
  },
  {
   "cell_type": "code",
   "execution_count": 66,
   "metadata": {},
   "outputs": [
    {
     "name": "stdout",
     "output_type": "stream",
     "text": [
      "Old Shape:  (75593, 4)\n",
      "New Shape:  (68035, 4)\n"
     ]
    }
   ],
   "source": [
    "df1 = remove_outliers(df1,'behdasht') "
   ]
  },
  {
   "cell_type": "markdown",
   "metadata": {},
   "source": [
    "<div style=\"direction: rtl; text-align: right; font-family: 'Vazir', sans-serif; background-color: #2c3e50; padding: 20px; border-radius: 8px; box-shadow: 0px 0px 10px rgba(0,0,0,0.3); color: #ecf0f1;\">\n",
    "  <h2 style=\"color: #f1c40f; text-align: center;\">گزارش outlier detection</h2>\n",
    "  \n",
    "  <p style=\"font-size: 16px; line-height: 1.6;\">\n",
    "  با توجه به دو نمودار بالا، نتیجه میشود که هر چهار ستون outlier دارند. بنابرین باید این داده های پرت را به گونه ایی هندل کرد.\n",
    "  </p>\n",
    "\n",
    "  <h3 style=\"color: #2ecc71;\">روش استفاده شده :</h3>\n",
    "  \n",
    "  <p style=\"font-size: 16px; line-height: 1.6;\">\n",
    "  برای هندل کردن مقایر پرت، از IQR استفاده کردیم.\n",
    "  </p>\n",
    "\n",
    "  <p style=\"font-size: 16px; line-height: 1.6;\">\n",
    "  مشاهده میشود که بعد از حذف کردن مقادیر پرت، سطر ها از 96198 تا به  68035 تا کاهش یافته است.\n",
    "  </p>\n",
    "\n",
    "  <p style=\"font-size: 16px; line-height: 1.6; color: #27ae60;\">\n",
    "    در نهایت، نتیجه آزمون نشان‌دهنده این است که ارزش خانه های شهری و روستایی برابر نیستند و تفاوت معناداری بین این دو گروه وجود دارد.\n",
    "  </p>\n",
    "</div>\n"
   ]
  },
  {
   "cell_type": "markdown",
   "metadata": {},
   "source": [
    "### <div dir=\"rtl\" style=\"font-family: 'Segoe UI', Tahoma, sans-serif; font-size: 20px; color: #ffffff; font-weight: bold; padding: 10px; border-radius: 8px; background: linear-gradient(135deg, #3b82f6, #60a5fa); text-align: right;\"> Correlation Matrix </div>"
   ]
  },
  {
   "cell_type": "code",
   "execution_count": 54,
   "metadata": {},
   "outputs": [],
   "source": [
    "import matplotlib.pyplot as plt"
   ]
  },
  {
   "cell_type": "code",
   "execution_count": 67,
   "metadata": {},
   "outputs": [
    {
     "data": {
      "image/png": "[encoded data removed]",
      "text/plain": [
       "<Figure size 640x480 with 2 Axes>"
      ]
     },
     "metadata": {},
     "output_type": "display_data"
    }
   ],
   "source": [
    "matrix = df1.corr()\n",
    "\n",
    "# plotting correlation matrix\n",
    "plt.imshow(matrix, cmap='Blues')\n",
    "\n",
    "# adding colorbar\n",
    "plt.colorbar()\n",
    "\n",
    "# extracting variable names\n",
    "variables = []\n",
    "for i in matrix.columns:\n",
    "    variables.append(i)\n",
    "\n",
    "# Adding labels to the matrix\n",
    "plt.xticks(range(len(matrix)), variables, rotation=45, ha='right')\n",
    "plt.yticks(range(len(matrix)), variables)\n",
    "\n",
    "# Display the plot\n",
    "plt.show()"
   ]
  }
 ],
 "metadata": {
  "kernelspec": {
   "display_name": "Python 3",
   "language": "python",
   "name": "python3"
  },
  "language_info": {
   "codemirror_mode": {
    "name": "ipython",
    "version": 3
   },
   "file_extension": ".py",
   "mimetype": "text/x-python",
   "name": "python",
   "nbconvert_exporter": "python",
   "pygments_lexer": "ipython3",
   "version": "3.12.4"
  }
 },
 "nbformat": 4,
 "nbformat_minor": 2
}
