{
 "cells": [
  {
   "cell_type": "code",
   "execution_count": 1,
   "metadata": {},
   "outputs": [],
   "source": [
    "import pandas as pd\n",
    "import matplotlib.pyplot as plt\n",
    "import seaborn as sns\n",
    "from sklearn.impute import KNNImputer\n"
   ]
  },
  {
   "cell_type": "markdown",
   "metadata": {},
   "source": [
    "### <div dir=\"rtl\" style=\"font-family: 'Segoe UI', Tahoma, sans-serif; font-size: 20px; color: #ffffff; font-weight: bold; padding: 10px; border-radius: 8px; background: linear-gradient(135deg, #2EA149, #60a5fa); text-align: right;\"> خواندن شیت های مربوط </div>\n"
   ]
  },
  {
   "cell_type": "code",
   "execution_count": 2,
   "metadata": {},
   "outputs": [],
   "source": [
    "#read the files\n",
    "df_98_R = pd.read_excel('R98.xlsx',sheet_name=['R98P4S01','R98P4S02','R98P4S03'])\n",
    "df_98_U = pd.read_excel('U98.xlsx',sheet_name=['U98P4S01','U98P4S02','U98P4S03']) \n",
    "\n",
    "df_99_R = pd.read_excel('R99.xlsx',sheet_name=['R99P4S01','R99P4S02','R99P4S03'])\n",
    "df_99_U = pd.read_excel('U99.xlsx',sheet_name=['U99P4S01','U99P4S02','U99P4S03'])\n",
    "\n",
    "df_1400_R = pd.read_excel('R1400.xlsx',sheet_name=['R1400P4S01','R1400P4S02','R1400P4S03'])\n",
    "df_1400_U = pd.read_excel('U1400.xlsx',sheet_name=['U1400P4S01','U1400P4S02','U1400P4S03'])\n",
    "\n",
    "df_1401_R = pd.read_excel('R1401.xlsx',sheet_name=['R1401P4S01','R1401P4S02','R1401P4S03'])\n",
    "df_1401_U = pd.read_excel('U1401.xlsx',sheet_name=['U1401P4S01','U1401P4S02','U1401P4S03'])"
   ]
  },
  {
   "cell_type": "code",
   "execution_count": 3,
   "metadata": {},
   "outputs": [],
   "source": [
    "#R98\n",
    "df_98_Ra = df_98_R['R98P4S01']\n",
    "df_98_Rb = df_98_R['R98P4S02']\n",
    "df_98_Rc = df_98_R['R98P4S03'] \n",
    "\n",
    "df_98_Ua = df_98_U['U98P4S01']\n",
    "df_98_Ub = df_98_U['U98P4S02']\n",
    "df_98_Uc = df_98_U['U98P4S03']\n",
    "#R99\n",
    "df_99_Ra = df_99_R['R99P4S01']\n",
    "df_99_Rb = df_99_R['R99P4S02']\n",
    "df_99_Rc = df_99_R['R99P4S03'] \n",
    "\n",
    "df_99_Ua = df_99_U['U99P4S01']\n",
    "df_99_Ub = df_99_U['U99P4S02']\n",
    "df_99_Uc = df_99_U['U99P4S03']\n",
    "#R1400\n",
    "df_1400_Ra = df_1400_R['R1400P4S01']\n",
    "df_1400_Rb = df_1400_R['R1400P4S02']\n",
    "df_1400_Rc = df_1400_R['R1400P4S03'] \n",
    "\n",
    "df_1400_Ua = df_1401_U['U1401P4S01']\n",
    "df_1400_Ub = df_1401_U['U1401P4S02']\n",
    "df_1400_Uc = df_1401_U['U1401P4S03']\n",
    "#R1401\n",
    "df_1401_Ra = df_1401_R['R1401P4S01']\n",
    "df_1401_Rb = df_1401_R['R1401P4S02']\n",
    "df_1401_Rc = df_1401_R['R1401P4S03'] \n",
    "\n",
    "df_1401_Ua = df_1401_U['U1401P4S01']\n",
    "df_1401_Ub = df_1401_U['U1401P4S02']\n",
    "df_1401_Uc = df_1401_U['U1401P4S03']"
   ]
  },
  {
   "cell_type": "code",
   "execution_count": 4,
   "metadata": {},
   "outputs": [],
   "source": [
    "#add year column\n",
    "df_98_Ra['year'] , df_98_Rb['year'] , df_98_Rc['year'] = 98,98,98\n",
    "df_99_Ra['year'] , df_99_Rb['year'] , df_99_Rc['year'] = 99,99,99\n",
    "df_1400_Ra['year'] , df_1400_Rb['year'] , df_1400_Rc['year'] = 1400,1400,1400\n",
    "df_1401_Ra['year'] , df_1401_Rb['year'] , df_1401_Rc['year'] = 1401,1401,1401\n",
    "\n",
    "df_98_Ua['year'] , df_98_Ub['year'] , df_98_Uc['year'] = 98,98,98\n",
    "df_99_Ua['year'] , df_99_Ub['year'] , df_99_Uc['year'] = 99,99,99\n",
    "df_1400_Ua['year'] , df_1400_Ub['year'] , df_1400_Uc['year'] = 1400,1400,1400\n",
    "df_1401_Ua['year'] , df_1401_Ub['year'] , df_1401_Uc['year'] = 1401,1401,1401"
   ]
  },
  {
   "cell_type": "markdown",
   "metadata": {},
   "source": [
    "### <div dir=\"rtl\" style=\"font-family: 'Segoe UI', Tahoma, sans-serif; font-size: 20px; color: #ffffff; font-weight: bold; padding: 10px; border-radius: 8px; background: linear-gradient(135deg, #2EA149, #60a5fa); text-align: right;\"> ترکیب دیتافریم های یکسان </div>\n"
   ]
  },
  {
   "cell_type": "code",
   "execution_count": 5,
   "metadata": {},
   "outputs": [],
   "source": [
    "#preparing data\n",
    "\n",
    "df_a = pd.concat([df_98_Ra,df_99_Ra,df_1400_Ra,df_1401_Ra,df_98_Ua,df_99_Ua,df_1400_Ua,df_1401_Ua]) \n",
    "df_b = pd.concat([df_98_Rb,df_99_Rb,df_1400_Rb,df_1401_Rb,df_98_Ub,df_99_Ub,df_1400_Ub,df_1401_Ub]) \n",
    "df_c = pd.concat([df_98_Rc,df_99_Rc,df_1400_Rc,df_1401_Rc,df_98_Uc,df_99_Uc,df_1400_Uc,df_1401_Uc]) \n",
    "\n",
    "df_a= df_a[['Address','income_w_y','year']]\n",
    "df_b=df_b[['Address','sale','year']]\n",
    "df_c = df_c.drop(['member', 'Fasl', 'DYCOL00'], axis=1)\n",
    "\n"
   ]
  },
  {
   "cell_type": "markdown",
   "metadata": {},
   "source": [
    "### <div dir=\"rtl\" style=\"font-family: 'Segoe UI', Tahoma, sans-serif; font-size: 20px; color: #ffffff; font-weight: bold; padding: 10px; border-radius: 8px; background: linear-gradient(135deg, #2EA149, #60a5fa); text-align: right;\"> توضیح دیتا</div>\n"
   ]
  },
  {
   "cell_type": "markdown",
   "metadata": {},
   "source": [
    "<p dir=rtl style=\"direction: rtl;text-align: justify;line-height:200%;font-family:vazir;font-size:medium\">\n",
    "<font face=\"vazir\" size=3>\n",
    "حالا سه دیتافریم داریم:\n",
    "\n",
    "</font>\n",
    "</p>\n",
    "\n",
    "<p dir=rtl style=\"direction: rtl;text-align: justify;line-height:200%;font-family:vazir;font-size:medium\">\n",
    "<font face=\"vazir\" size=3>\n",
    "df_a : شامل درامد افراد از حقوق دریافتی\n",
    "</font>\n",
    "</p>\n",
    "\n",
    "<p dir=rtl style=\"direction: rtl;text-align: justify;line-height:200%;font-family:vazir;font-size:medium\">\n",
    "<font face=\"vazir\" size=3>\n",
    "df_b : شامل درامد افراد از مشاغل آزاد\n",
    "</font>\n",
    "</p>\n",
    "\n",
    "<p dir=rtl style=\"direction: rtl;text-align: justify;line-height:200%;font-family:vazir;font-size:medium\">\n",
    "<font face=\"vazir\" size=3>\n",
    "df_c : شامل درامد از سایر منابع درامدی\n",
    "</font>\n",
    "</p>"
   ]
  },
  {
   "cell_type": "markdown",
   "metadata": {},
   "source": [
    "<p dir=rtl style=\"direction: rtl;text-align: justify;line-height:200%;font-family:vazir;font-size:medium\">\n",
    "<font face=\"vazir\" size=3>\n",
    "حالا باید تمام دیتافریم ها را ترکیب کنیم\n",
    "</font>\n",
    "</p>"
   ]
  },
  {
   "cell_type": "markdown",
   "metadata": {},
   "source": [
    "#### <div dir=\"rtl\" style=\"font-family: 'Segoe UI', Tahoma, sans-serif; font-size: 20px; color: #ffffff; font-weight: bold; padding: 10px; border-radius: 8px; background: linear-gradient(135deg, #2EA149, #60a5fa); text-align: right;\"> تبدیل مقادیر به مقادیر عددی و ایجاد ستون مجموع درآمد</div>\n"
   ]
  },
  {
   "cell_type": "code",
   "execution_count": 6,
   "metadata": {},
   "outputs": [],
   "source": [
    "#converting all variable types to numeric so we can sum them toghether\n",
    "df_c = df_c.apply(pd.to_numeric, errors='coerce') \n",
    "\n",
    "# combining all 'other' incomes\n",
    "df_c['total_other'] = df_c['income_pension'] + df_c['income_rent'] + df_c['income_interest'] + df_c['income_aid'] + df_c['income_resale'] + df_c['income_transfer']"
   ]
  },
  {
   "cell_type": "markdown",
   "metadata": {},
   "source": [
    "#### <div dir=\"rtl\" style=\"font-family: 'Segoe UI', Tahoma, sans-serif; font-size: 20px; color: #ffffff; font-weight: bold; padding: 10px; border-radius: 8px; background: linear-gradient(135deg, #2EA149, #60a5fa); text-align: right;\"> حذف ستون های اضافه </div>\n"
   ]
  },
  {
   "cell_type": "code",
   "execution_count": 7,
   "metadata": {},
   "outputs": [],
   "source": [
    "#dropping unnecessary columns\n",
    "df_c= df_c.drop(['income_pension', 'income_rent', 'income_interest',\n",
    "       'income_aid', 'income_resale', 'income_transfer'],axis=1)\n"
   ]
  },
  {
   "cell_type": "markdown",
   "metadata": {},
   "source": [
    "### <div dir=\"rtl\" style=\"font-family: 'Segoe UI', Tahoma, sans-serif; font-size: 20px; color: #ffffff; font-weight: bold; padding: 10px; border-radius: 8px; background: linear-gradient(135deg, #2EA149, #60a5fa); text-align: right;\"> ترکیب دسته بندی ها و ایجاد یک دیتافریم واحد </div>\n"
   ]
  },
  {
   "cell_type": "code",
   "execution_count": 8,
   "metadata": {},
   "outputs": [
    {
     "data": {
      "text/html": [
       "<div>\n",
       "<style scoped>\n",
       "    .dataframe tbody tr th:only-of-type {\n",
       "        vertical-align: middle;\n",
       "    }\n",
       "\n",
       "    .dataframe tbody tr th {\n",
       "        vertical-align: top;\n",
       "    }\n",
       "\n",
       "    .dataframe thead th {\n",
       "        text-align: right;\n",
       "    }\n",
       "</style>\n",
       "<table border=\"1\" class=\"dataframe\">\n",
       "  <thead>\n",
       "    <tr style=\"text-align: right;\">\n",
       "      <th></th>\n",
       "      <th>Address</th>\n",
       "      <th>income_w_y</th>\n",
       "      <th>year</th>\n",
       "      <th>sale</th>\n",
       "      <th>total_other</th>\n",
       "    </tr>\n",
       "  </thead>\n",
       "  <tbody>\n",
       "    <tr>\n",
       "      <th>0</th>\n",
       "      <td>10001000108</td>\n",
       "      <td>NaN</td>\n",
       "      <td>98</td>\n",
       "      <td>NaN</td>\n",
       "      <td>NaN</td>\n",
       "    </tr>\n",
       "    <tr>\n",
       "      <th>1</th>\n",
       "      <td>10001000111</td>\n",
       "      <td>6.000000e+08</td>\n",
       "      <td>98</td>\n",
       "      <td>NaN</td>\n",
       "      <td>NaN</td>\n",
       "    </tr>\n",
       "    <tr>\n",
       "      <th>2</th>\n",
       "      <td>10001000113</td>\n",
       "      <td>2.400000e+08</td>\n",
       "      <td>99</td>\n",
       "      <td>NaN</td>\n",
       "      <td>NaN</td>\n",
       "    </tr>\n",
       "    <tr>\n",
       "      <th>3</th>\n",
       "      <td>10001000114</td>\n",
       "      <td>NaN</td>\n",
       "      <td>98</td>\n",
       "      <td>NaN</td>\n",
       "      <td>NaN</td>\n",
       "    </tr>\n",
       "    <tr>\n",
       "      <th>4</th>\n",
       "      <td>10001000116</td>\n",
       "      <td>NaN</td>\n",
       "      <td>99</td>\n",
       "      <td>NaN</td>\n",
       "      <td>NaN</td>\n",
       "    </tr>\n",
       "    <tr>\n",
       "      <th>...</th>\n",
       "      <td>...</td>\n",
       "      <td>...</td>\n",
       "      <td>...</td>\n",
       "      <td>...</td>\n",
       "      <td>...</td>\n",
       "    </tr>\n",
       "    <tr>\n",
       "      <th>342652</th>\n",
       "      <td>23006709832</td>\n",
       "      <td>1.200000e+09</td>\n",
       "      <td>1400</td>\n",
       "      <td>NaN</td>\n",
       "      <td>NaN</td>\n",
       "    </tr>\n",
       "    <tr>\n",
       "      <th>342653</th>\n",
       "      <td>23006709832</td>\n",
       "      <td>NaN</td>\n",
       "      <td>1401</td>\n",
       "      <td>1.200000e+09</td>\n",
       "      <td>636530000.0</td>\n",
       "    </tr>\n",
       "    <tr>\n",
       "      <th>342654</th>\n",
       "      <td>23006709835</td>\n",
       "      <td>1.215000e+09</td>\n",
       "      <td>1401</td>\n",
       "      <td>NaN</td>\n",
       "      <td>129530000.0</td>\n",
       "    </tr>\n",
       "    <tr>\n",
       "      <th>342655</th>\n",
       "      <td>23006709838</td>\n",
       "      <td>NaN</td>\n",
       "      <td>1401</td>\n",
       "      <td>NaN</td>\n",
       "      <td>300700000.0</td>\n",
       "    </tr>\n",
       "    <tr>\n",
       "      <th>342656</th>\n",
       "      <td>23006709841</td>\n",
       "      <td>NaN</td>\n",
       "      <td>1401</td>\n",
       "      <td>NaN</td>\n",
       "      <td>742700000.0</td>\n",
       "    </tr>\n",
       "  </tbody>\n",
       "</table>\n",
       "<p>342657 rows × 5 columns</p>\n",
       "</div>"
      ],
      "text/plain": [
       "            Address    income_w_y  year          sale  total_other\n",
       "0       10001000108           NaN    98           NaN          NaN\n",
       "1       10001000111  6.000000e+08    98           NaN          NaN\n",
       "2       10001000113  2.400000e+08    99           NaN          NaN\n",
       "3       10001000114           NaN    98           NaN          NaN\n",
       "4       10001000116           NaN    99           NaN          NaN\n",
       "...             ...           ...   ...           ...          ...\n",
       "342652  23006709832  1.200000e+09  1400           NaN          NaN\n",
       "342653  23006709832           NaN  1401  1.200000e+09  636530000.0\n",
       "342654  23006709835  1.215000e+09  1401           NaN  129530000.0\n",
       "342655  23006709838           NaN  1401           NaN  300700000.0\n",
       "342656  23006709841           NaN  1401           NaN  742700000.0\n",
       "\n",
       "[342657 rows x 5 columns]"
      ]
     },
     "execution_count": 8,
     "metadata": {},
     "output_type": "execute_result"
    }
   ],
   "source": [
    "#merging data\n",
    "df_ab = pd.merge(df_a, df_b, on=['Address','year'], how='outer')\n",
    "\n",
    "df_all = pd.merge(df_ab, df_c, on=['Address','year'], how='outer')\n",
    "df_all"
   ]
  },
  {
   "cell_type": "markdown",
   "metadata": {},
   "source": [
    "### <div dir=\"rtl\" style=\"font-family: 'Segoe UI', Tahoma, sans-serif; font-size: 20px; color: #ffffff; font-weight: bold; padding: 10px; border-radius: 8px; background: linear-gradient(135deg, #2EA149, #60a5fa); text-align: right;\"> پر کردن مقادیر گمشده </div>\n"
   ]
  },
  {
   "cell_type": "code",
   "execution_count": 9,
   "metadata": {},
   "outputs": [
    {
     "name": "stderr",
     "output_type": "stream",
     "text": [
      "C:\\Users\\USER\\AppData\\Local\\Temp\\ipykernel_2484\\3385978045.py:12: FutureWarning: A value is trying to be set on a copy of a DataFrame or Series through chained assignment using an inplace method.\n",
      "The behavior will change in pandas 3.0. This inplace method will never work because the intermediate object on which we are setting values always behaves as a copy.\n",
      "\n",
      "For example, when doing 'df[col].method(value, inplace=True)', try using 'df.method({col: value}, inplace=True)' or df[col] = df[col].method(value) instead, to perform the operation inplace on the original object.\n",
      "\n",
      "\n",
      "  df_all[column].fillna(df_all[column].median(), inplace=True)\n",
      "C:\\Users\\USER\\AppData\\Local\\Temp\\ipykernel_2484\\3385978045.py:12: FutureWarning: A value is trying to be set on a copy of a DataFrame or Series through chained assignment using an inplace method.\n",
      "The behavior will change in pandas 3.0. This inplace method will never work because the intermediate object on which we are setting values always behaves as a copy.\n",
      "\n",
      "For example, when doing 'df[col].method(value, inplace=True)', try using 'df.method({col: value}, inplace=True)' or df[col] = df[col].method(value) instead, to perform the operation inplace on the original object.\n",
      "\n",
      "\n",
      "  df_all[column].fillna(df_all[column].median(), inplace=True)\n",
      "C:\\Users\\USER\\AppData\\Local\\Temp\\ipykernel_2484\\3385978045.py:12: FutureWarning: A value is trying to be set on a copy of a DataFrame or Series through chained assignment using an inplace method.\n",
      "The behavior will change in pandas 3.0. This inplace method will never work because the intermediate object on which we are setting values always behaves as a copy.\n",
      "\n",
      "For example, when doing 'df[col].method(value, inplace=True)', try using 'df.method({col: value}, inplace=True)' or df[col] = df[col].method(value) instead, to perform the operation inplace on the original object.\n",
      "\n",
      "\n",
      "  df_all[column].fillna(df_all[column].median(), inplace=True)\n"
     ]
    }
   ],
   "source": [
    "# Calculate the skewness\n",
    "skewness = df_all.skew(numeric_only=True)\n",
    "\n",
    "# Filling missing values based on skewness\n",
    "for column in df_all.columns:\n",
    "    if df_all[column].isnull().any():\n",
    "        if abs(skewness[column]) < 0.5:  \n",
    "        \n",
    "            df_all[column].fillna(df_all[column].mean(), inplace=True)\n",
    "        else:\n",
    "           \n",
    "            df_all[column].fillna(df_all[column].median(), inplace=True)\n"
   ]
  },
  {
   "cell_type": "code",
   "execution_count": 10,
   "metadata": {},
   "outputs": [
    {
     "data": {
      "text/plain": [
       "Address        0\n",
       "income_w_y     0\n",
       "year           0\n",
       "sale           0\n",
       "total_other    0\n",
       "dtype: int64"
      ]
     },
     "execution_count": 10,
     "metadata": {},
     "output_type": "execute_result"
    }
   ],
   "source": [
    "df_all.isna().sum()"
   ]
  },
  {
   "cell_type": "markdown",
   "metadata": {},
   "source": [
    "### <div dir=\"rtl\" style=\"font-family: 'Segoe UI', Tahoma, sans-serif; font-size: 20px; color: #ffffff; font-weight: bold; padding: 10px; border-radius: 8px; background: linear-gradient(135deg, #2EA149, #60a5fa); text-align: right;\"> ترکیب دیتا فریم های مرتبط بر اساس سال و جمع مقادیر </div>\n"
   ]
  },
  {
   "cell_type": "code",
   "execution_count": 11,
   "metadata": {},
   "outputs": [],
   "source": [
    "# grouping data by address and year so we can have family income for each year\n",
    "df_all = df_all.groupby(['Address', 'year']).agg(\n",
    "    income_w_y_sum=pd.NamedAgg(column='income_w_y', aggfunc='sum'),\n",
    "    sale_sum=pd.NamedAgg(column='sale', aggfunc='sum'),\n",
    "    total_other_sum=pd.NamedAgg(column='total_other', aggfunc='sum')\n",
    ").reset_index()\n",
    "\n"
   ]
  },
  {
   "cell_type": "code",
   "execution_count": 12,
   "metadata": {},
   "outputs": [],
   "source": [
    "# summing all incomes to create the general column income\n",
    "df_all['income'] = df_all[['income_w_y_sum', 'sale_sum', 'total_other_sum']].sum(axis=1)\n"
   ]
  },
  {
   "cell_type": "code",
   "execution_count": 13,
   "metadata": {},
   "outputs": [
    {
     "data": {
      "text/html": [
       "<div>\n",
       "<style scoped>\n",
       "    .dataframe tbody tr th:only-of-type {\n",
       "        vertical-align: middle;\n",
       "    }\n",
       "\n",
       "    .dataframe tbody tr th {\n",
       "        vertical-align: top;\n",
       "    }\n",
       "\n",
       "    .dataframe thead th {\n",
       "        text-align: right;\n",
       "    }\n",
       "</style>\n",
       "<table border=\"1\" class=\"dataframe\">\n",
       "  <thead>\n",
       "    <tr style=\"text-align: right;\">\n",
       "      <th></th>\n",
       "      <th>Address</th>\n",
       "      <th>year</th>\n",
       "      <th>income_w_y_sum</th>\n",
       "      <th>sale_sum</th>\n",
       "      <th>total_other_sum</th>\n",
       "      <th>income</th>\n",
       "    </tr>\n",
       "  </thead>\n",
       "  <tbody>\n",
       "    <tr>\n",
       "      <th>0</th>\n",
       "      <td>10001000108</td>\n",
       "      <td>98</td>\n",
       "      <td>331000000.0</td>\n",
       "      <td>302000000.0</td>\n",
       "      <td>46600000.0</td>\n",
       "      <td>679600000.0</td>\n",
       "    </tr>\n",
       "    <tr>\n",
       "      <th>1</th>\n",
       "      <td>10001000111</td>\n",
       "      <td>98</td>\n",
       "      <td>600000000.0</td>\n",
       "      <td>302000000.0</td>\n",
       "      <td>46600000.0</td>\n",
       "      <td>948600000.0</td>\n",
       "    </tr>\n",
       "    <tr>\n",
       "      <th>2</th>\n",
       "      <td>10001000113</td>\n",
       "      <td>99</td>\n",
       "      <td>240000000.0</td>\n",
       "      <td>302000000.0</td>\n",
       "      <td>46600000.0</td>\n",
       "      <td>588600000.0</td>\n",
       "    </tr>\n",
       "    <tr>\n",
       "      <th>3</th>\n",
       "      <td>10001000114</td>\n",
       "      <td>98</td>\n",
       "      <td>331000000.0</td>\n",
       "      <td>302000000.0</td>\n",
       "      <td>46600000.0</td>\n",
       "      <td>679600000.0</td>\n",
       "    </tr>\n",
       "    <tr>\n",
       "      <th>4</th>\n",
       "      <td>10001000116</td>\n",
       "      <td>99</td>\n",
       "      <td>331000000.0</td>\n",
       "      <td>302000000.0</td>\n",
       "      <td>46600000.0</td>\n",
       "      <td>679600000.0</td>\n",
       "    </tr>\n",
       "  </tbody>\n",
       "</table>\n",
       "</div>"
      ],
      "text/plain": [
       "       Address  year  income_w_y_sum     sale_sum  total_other_sum  \\\n",
       "0  10001000108    98     331000000.0  302000000.0       46600000.0   \n",
       "1  10001000111    98     600000000.0  302000000.0       46600000.0   \n",
       "2  10001000113    99     240000000.0  302000000.0       46600000.0   \n",
       "3  10001000114    98     331000000.0  302000000.0       46600000.0   \n",
       "4  10001000116    99     331000000.0  302000000.0       46600000.0   \n",
       "\n",
       "        income  \n",
       "0  679600000.0  \n",
       "1  948600000.0  \n",
       "2  588600000.0  \n",
       "3  679600000.0  \n",
       "4  679600000.0  "
      ]
     },
     "execution_count": 13,
     "metadata": {},
     "output_type": "execute_result"
    }
   ],
   "source": [
    "df_all.head()"
   ]
  },
  {
   "cell_type": "code",
   "execution_count": 14,
   "metadata": {},
   "outputs": [
    {
     "data": {
      "text/plain": [
       "Address            0\n",
       "year               0\n",
       "income_w_y_sum     0\n",
       "sale_sum           0\n",
       "total_other_sum    0\n",
       "income             0\n",
       "dtype: int64"
      ]
     },
     "execution_count": 14,
     "metadata": {},
     "output_type": "execute_result"
    }
   ],
   "source": [
    "df_all.isna().sum()"
   ]
  },
  {
   "cell_type": "markdown",
   "metadata": {},
   "source": [
    "### <div dir=\"rtl\" style=\"font-family: 'Segoe UI', Tahoma, sans-serif; font-size: 20px; color: #ffffff; font-weight: bold; padding: 10px; border-radius: 8px; background: linear-gradient(135deg, #2EA149, #60a5fa); text-align: right;\"> دریافت خروجی دیتافریم نهایی </div>\n"
   ]
  },
  {
   "cell_type": "code",
   "execution_count": 15,
   "metadata": {},
   "outputs": [],
   "source": [
    "income=df_all.copy()"
   ]
  },
  {
   "cell_type": "code",
   "execution_count": 20,
   "metadata": {},
   "outputs": [],
   "source": [
    "income.to_csv('income.csv', index=False)"
   ]
  }
 ],
 "metadata": {
  "kernelspec": {
   "display_name": "Python 3",
   "language": "python",
   "name": "python3"
  },
  "language_info": {
   "codemirror_mode": {
    "name": "ipython",
    "version": 3
   },
   "file_extension": ".py",
   "mimetype": "text/x-python",
   "name": "python",
   "nbconvert_exporter": "python",
   "pygments_lexer": "ipython3",
   "version": "3.12.5"
  }
 },
 "nbformat": 4,
 "nbformat_minor": 2
}
