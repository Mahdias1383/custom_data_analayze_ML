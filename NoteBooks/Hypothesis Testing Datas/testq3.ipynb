{
 "cells": [
  {
   "cell_type": "code",
   "execution_count": 26,
   "metadata": {},
   "outputs": [],
   "source": [
    "import pandas as pd\n",
    "import numpy as np\n",
    "from scipy import stats"
   ]
  },
  {
   "cell_type": "markdown",
   "metadata": {},
   "source": [
    "## <div dir=\"rtl\" style=\"font-family: 'Segoe UI', Tahoma, sans-serif; font-size: 24px; color: #ffffff; font-weight: bold; padding: 12px; border-radius: 8px; background: linear-gradient(135deg, #1e3a8a, #4f46e5); text-align: right;\">سوال 3 آزمون فرض </div>\n"
   ]
  },
  {
   "cell_type": "markdown",
   "metadata": {},
   "source": [
    "### <div dir=\"rtl\" style=\"font-family: 'Segoe UI', Tahoma, sans-serif; font-size: 20px; color: #ffffff; font-weight: bold; padding: 10px; border-radius: 8px; background: linear-gradient(135deg, #3b82f6, #60a5fa); text-align: right;\"> خواندن دیتا </div>\n"
   ]
  },
  {
   "cell_type": "markdown",
   "metadata": {},
   "source": [
    "از آنجا که در پرسشنامه بخش میزان تحصیلات شامل گزینه‌ی \"سایر\" بود، دو حالت که \"سایر\" شامل مدارک دانشگاهی می‌شود و نمی‌شود را بررسی میکنیم"
   ]
  },
  {
   "cell_type": "code",
   "execution_count": 27,
   "metadata": {},
   "outputs": [],
   "source": [
    "df=pd.read_csv('df_test3')\n",
    "df2=df.copy()"
   ]
  },
  {
   "cell_type": "code",
   "execution_count": 28,
   "metadata": {},
   "outputs": [
    {
     "data": {
      "text/html": [
       "<div>\n",
       "<style scoped>\n",
       "    .dataframe tbody tr th:only-of-type {\n",
       "        vertical-align: middle;\n",
       "    }\n",
       "\n",
       "    .dataframe tbody tr th {\n",
       "        vertical-align: top;\n",
       "    }\n",
       "\n",
       "    .dataframe thead th {\n",
       "        text-align: right;\n",
       "    }\n",
       "</style>\n",
       "<table border=\"1\" class=\"dataframe\">\n",
       "  <thead>\n",
       "    <tr style=\"text-align: right;\">\n",
       "      <th></th>\n",
       "      <th>Address</th>\n",
       "      <th>income</th>\n",
       "      <th>state</th>\n",
       "    </tr>\n",
       "  </thead>\n",
       "  <tbody>\n",
       "    <tr>\n",
       "      <th>0</th>\n",
       "      <td>10001000108</td>\n",
       "      <td>1.960000e+09</td>\n",
       "      <td>True</td>\n",
       "    </tr>\n",
       "    <tr>\n",
       "      <th>1</th>\n",
       "      <td>10001000111</td>\n",
       "      <td>1.800000e+09</td>\n",
       "      <td>False</td>\n",
       "    </tr>\n",
       "    <tr>\n",
       "      <th>2</th>\n",
       "      <td>10001000113</td>\n",
       "      <td>3.552000e+09</td>\n",
       "      <td>True</td>\n",
       "    </tr>\n",
       "    <tr>\n",
       "      <th>3</th>\n",
       "      <td>10001000114</td>\n",
       "      <td>1.440000e+08</td>\n",
       "      <td>False</td>\n",
       "    </tr>\n",
       "    <tr>\n",
       "      <th>4</th>\n",
       "      <td>10001000116</td>\n",
       "      <td>2.616000e+09</td>\n",
       "      <td>False</td>\n",
       "    </tr>\n",
       "  </tbody>\n",
       "</table>\n",
       "</div>"
      ],
      "text/plain": [
       "       Address        income  state\n",
       "0  10001000108  1.960000e+09   True\n",
       "1  10001000111  1.800000e+09  False\n",
       "2  10001000113  3.552000e+09   True\n",
       "3  10001000114  1.440000e+08  False\n",
       "4  10001000116  2.616000e+09  False"
      ]
     },
     "execution_count": 28,
     "metadata": {},
     "output_type": "execute_result"
    }
   ],
   "source": [
    "df.head()"
   ]
  },
  {
   "cell_type": "code",
   "execution_count": 29,
   "metadata": {},
   "outputs": [],
   "source": [
    "#seperating degrees considered 'university'\n",
    "university_degrees = ['Bachelor', 'Master', 'PhD']\n",
    "university_degrees2 = ['Bachelor', 'Master', 'PhD','other']\n",
    "\n"
   ]
  },
  {
   "cell_type": "markdown",
   "metadata": {},
   "source": [
    "### <div dir=\"rtl\" style=\"font-family: 'Segoe UI', Tahoma, sans-serif; font-size: 20px; color: #ffffff; font-weight: bold; padding: 10px; border-radius: 8px; background: linear-gradient(135deg, #3b82f6, #60a5fa); text-align: right;\"> اجرای آزمون فرض</div>\n"
   ]
  },
  {
   "cell_type": "code",
   "execution_count": 30,
   "metadata": {},
   "outputs": [
    {
     "name": "stdout",
     "output_type": "stream",
     "text": [
      "T-statistics: 13.263785805038017\n",
      "P-value: 4.088771217276276e-40\n",
      "There is a significant difference in annual income between the groups.\n"
     ]
    }
   ],
   "source": [
    "# for \"other\" not considered as a university degree\n",
    "uni = df[df['state'] == True]['income']\n",
    "non_uni= df[df['state'] == False]['income']\n",
    "\n",
    "\n",
    "t_stat, p_value = stats.ttest_ind(uni, non_uni)\n",
    "\n",
    "\n",
    "print(f\"T-statistics: {t_stat}\")\n",
    "print(f\"P-value: {p_value}\")\n",
    "\n",
    "\n",
    "if p_value < 0.05:\n",
    "    print(\"There is a significant difference in annual income between the groups.\")\n",
    "else:\n",
    "    print(\"There is no significant difference in annual income between the groups.\")"
   ]
  },
  {
   "cell_type": "code",
   "execution_count": 31,
   "metadata": {},
   "outputs": [
    {
     "name": "stdout",
     "output_type": "stream",
     "text": [
      "T-statistics: 13.263785805038017\n",
      "P-value: 4.088771217276276e-40\n",
      "There is a significant difference in annual income between the two groups.\n"
     ]
    }
   ],
   "source": [
    "# for \"other\" \n",
    "# considered as a university degree\n",
    "unii = df2[df2['state'] == True]['income']\n",
    "non_unii= df2[df2['state'] == False]['income']\n",
    "\n",
    "t_stat, p_value = stats.ttest_ind(unii, non_unii)\n",
    "\n",
    "\n",
    "print(f\"T-statistics: {t_stat}\")\n",
    "print(f\"P-value: {p_value}\")\n",
    "\n",
    "if p_value < 0.05:\n",
    "    print(\"There is a significant difference in annual income between the two groups.\")\n",
    "else:\n",
    "    print(\"There is no significant difference in annual income between the two groups.\")"
   ]
  }
 ],
 "metadata": {
  "kernelspec": {
   "display_name": "Python 3",
   "language": "python",
   "name": "python3"
  },
  "language_info": {
   "codemirror_mode": {
    "name": "ipython",
    "version": 3
   },
   "file_extension": ".py",
   "mimetype": "text/x-python",
   "name": "python",
   "nbconvert_exporter": "python",
   "pygments_lexer": "ipython3",
   "version": "3.12.5"
  }
 },
 "nbformat": 4,
 "nbformat_minor": 2
}
